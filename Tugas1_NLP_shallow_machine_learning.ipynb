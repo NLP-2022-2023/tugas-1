{
  "nbformat": 4,
  "nbformat_minor": 0,
  "metadata": {
    "colab": {
      "provenance": [],
      "collapsed_sections": []
    },
    "kernelspec": {
      "name": "python3",
      "display_name": "Python 3"
    },
    "language_info": {
      "name": "python"
    }
  },
  "cells": [
    {
      "cell_type": "markdown",
      "source": [
        "### Algoritma shallow machine learning (SVM/XGBOOST/dll) dengan vector space model atau menggunakan dimensional reduction technique spt LSI"
      ],
      "metadata": {
        "id": "9Dxtvaiw5NJU"
      }
    },
    {
      "cell_type": "code",
      "source": [
        "!pip install --upgrade git+https://github.com/ariaghora/mpstemmer.git\n",
        "!pip install python-Levenshtein"
      ],
      "metadata": {
        "colab": {
          "base_uri": "https://localhost:8080/"
        },
        "id": "N5ErwS5ZOep6",
        "outputId": "4c4650d2-ebd8-4b3b-e1b4-216a6fa1f15d"
      },
      "execution_count": null,
      "outputs": [
        {
          "output_type": "stream",
          "name": "stdout",
          "text": [
            "Looking in indexes: https://pypi.org/simple, https://us-python.pkg.dev/colab-wheels/public/simple/\n",
            "Collecting git+https://github.com/ariaghora/mpstemmer.git\n",
            "  Cloning https://github.com/ariaghora/mpstemmer.git to /tmp/pip-req-build-fogkroce\n",
            "  Running command git clone -q https://github.com/ariaghora/mpstemmer.git /tmp/pip-req-build-fogkroce\n",
            "Looking in indexes: https://pypi.org/simple, https://us-python.pkg.dev/colab-wheels/public/simple/\n",
            "Requirement already satisfied: python-Levenshtein in /usr/local/lib/python3.7/dist-packages (0.12.2)\n",
            "Requirement already satisfied: setuptools in /usr/local/lib/python3.7/dist-packages (from python-Levenshtein) (57.4.0)\n"
          ]
        }
      ]
    },
    {
      "cell_type": "code",
      "source": [
        "import pandas as pd\n",
        "import numpy as np\n",
        "import nltk\n",
        "from mpstemmer import MPStemmer\n",
        "from nltk.tokenize import word_tokenize\n",
        "from nltk import pos_tag\n",
        "from nltk.corpus import stopwords\n",
        "from nltk.stem import WordNetLemmatizer\n",
        "from sklearn.preprocessing import LabelEncoder\n",
        "from collections import defaultdict\n",
        "from nltk.corpus import wordnet as wn\n",
        "from sklearn.feature_extraction.text import TfidfVectorizer\n",
        "from sklearn import model_selection, naive_bayes, svm\n",
        "from sklearn.metrics import accuracy_score, f1_score, roc_auc_score, classification_report\n",
        "\n",
        "nltk.download(\"popular\")\n",
        "np.random.seed(500)"
      ],
      "metadata": {
        "colab": {
          "base_uri": "https://localhost:8080/"
        },
        "id": "ZNLSLO1A5L4g",
        "outputId": "9ffcdadd-349e-4a5b-f21f-198f65ff11ff"
      },
      "execution_count": null,
      "outputs": [
        {
          "output_type": "stream",
          "name": "stderr",
          "text": [
            "[nltk_data] Downloading collection 'popular'\n",
            "[nltk_data]    | \n",
            "[nltk_data]    | Downloading package cmudict to /root/nltk_data...\n",
            "[nltk_data]    |   Package cmudict is already up-to-date!\n",
            "[nltk_data]    | Downloading package gazetteers to /root/nltk_data...\n",
            "[nltk_data]    |   Package gazetteers is already up-to-date!\n",
            "[nltk_data]    | Downloading package genesis to /root/nltk_data...\n",
            "[nltk_data]    |   Package genesis is already up-to-date!\n",
            "[nltk_data]    | Downloading package gutenberg to /root/nltk_data...\n",
            "[nltk_data]    |   Package gutenberg is already up-to-date!\n",
            "[nltk_data]    | Downloading package inaugural to /root/nltk_data...\n",
            "[nltk_data]    |   Package inaugural is already up-to-date!\n",
            "[nltk_data]    | Downloading package movie_reviews to\n",
            "[nltk_data]    |     /root/nltk_data...\n",
            "[nltk_data]    |   Package movie_reviews is already up-to-date!\n",
            "[nltk_data]    | Downloading package names to /root/nltk_data...\n",
            "[nltk_data]    |   Package names is already up-to-date!\n",
            "[nltk_data]    | Downloading package shakespeare to /root/nltk_data...\n",
            "[nltk_data]    |   Package shakespeare is already up-to-date!\n",
            "[nltk_data]    | Downloading package stopwords to /root/nltk_data...\n",
            "[nltk_data]    |   Package stopwords is already up-to-date!\n",
            "[nltk_data]    | Downloading package treebank to /root/nltk_data...\n",
            "[nltk_data]    |   Package treebank is already up-to-date!\n",
            "[nltk_data]    | Downloading package twitter_samples to\n",
            "[nltk_data]    |     /root/nltk_data...\n",
            "[nltk_data]    |   Package twitter_samples is already up-to-date!\n",
            "[nltk_data]    | Downloading package omw to /root/nltk_data...\n",
            "[nltk_data]    |   Package omw is already up-to-date!\n",
            "[nltk_data]    | Downloading package omw-1.4 to /root/nltk_data...\n",
            "[nltk_data]    |   Package omw-1.4 is already up-to-date!\n",
            "[nltk_data]    | Downloading package wordnet to /root/nltk_data...\n",
            "[nltk_data]    |   Package wordnet is already up-to-date!\n",
            "[nltk_data]    | Downloading package wordnet2021 to /root/nltk_data...\n",
            "[nltk_data]    |   Package wordnet2021 is already up-to-date!\n",
            "[nltk_data]    | Downloading package wordnet31 to /root/nltk_data...\n",
            "[nltk_data]    |   Package wordnet31 is already up-to-date!\n",
            "[nltk_data]    | Downloading package wordnet_ic to /root/nltk_data...\n",
            "[nltk_data]    |   Package wordnet_ic is already up-to-date!\n",
            "[nltk_data]    | Downloading package words to /root/nltk_data...\n",
            "[nltk_data]    |   Package words is already up-to-date!\n",
            "[nltk_data]    | Downloading package maxent_ne_chunker to\n",
            "[nltk_data]    |     /root/nltk_data...\n",
            "[nltk_data]    |   Package maxent_ne_chunker is already up-to-date!\n",
            "[nltk_data]    | Downloading package punkt to /root/nltk_data...\n",
            "[nltk_data]    |   Package punkt is already up-to-date!\n",
            "[nltk_data]    | Downloading package snowball_data to\n",
            "[nltk_data]    |     /root/nltk_data...\n",
            "[nltk_data]    |   Package snowball_data is already up-to-date!\n",
            "[nltk_data]    | Downloading package averaged_perceptron_tagger to\n",
            "[nltk_data]    |     /root/nltk_data...\n",
            "[nltk_data]    |   Package averaged_perceptron_tagger is already up-\n",
            "[nltk_data]    |       to-date!\n",
            "[nltk_data]    | \n",
            "[nltk_data]  Done downloading collection popular\n"
          ]
        }
      ]
    },
    {
      "cell_type": "code",
      "source": [
        "CorpusTrain = pd.read_csv(\"train.csv\", encoding='latin-1')\n",
        "CorpusTest = pd.read_csv(\"test.csv\", encoding='latin-1')"
      ],
      "metadata": {
        "id": "hkL8djK15hJ6"
      },
      "execution_count": null,
      "outputs": []
    },
    {
      "cell_type": "code",
      "source": [
        "def preprocessing(Corpus):\n",
        "  # 1. Menghapus value yang kosong\n",
        "  Corpus['text_a'].dropna(inplace=True)\n",
        "  # 2. Melakukan backup ke \"text_original\"\n",
        "  Corpus['text_original'] = Corpus['text_a']\n",
        "  # 3. Membuat seluruh huruf dalam lowercase\n",
        "  Corpus['text_a'] = [entry.lower() for entry in Corpus['text_a']]\n",
        "  # 4. Tokenization\n",
        "  Corpus['text_a']= [word_tokenize(entry) for entry in Corpus['text_a']]\n",
        "  # Tidak dilakukan lemmatization karena tidak ada library yang mendukung\n",
        "  # Bahasa Indonesia dan memiliki performa yang baik, namun kami menemukan\n",
        "  # library stemming yang cukup baik\n",
        "  # 5. Penghapusan stopwords dan memproses stemming\n",
        "  stemmer = MPStemmer()\n",
        "  for index,entry in enumerate(Corpus['text_a']):\n",
        "      Final_words = []\n",
        "      for word in entry:\n",
        "          # Mengecek apabila token adalah stop words atau bukan, dan hanya perbolehkan alfabet\n",
        "          if word not in stopwords.words('indonesian') and word.isalpha():\n",
        "              word_Final = stemmer.stem(word)\n",
        "              Final_words.append(word_Final)\n",
        "      # Hasil final akan disimpan di 'text_final'\n",
        "      Corpus.loc[index,'text_final'] = str(Final_words)\n",
        "  # Drop 'text_a'\n",
        "  Corpus.drop(['text_a'], axis=1, inplace=True)\n",
        "\n",
        "\n",
        "preprocessing(CorpusTrain)\n",
        "preprocessing(CorpusTest)\n",
        "\n",
        "CorpusTrain.head()"
      ],
      "metadata": {
        "colab": {
          "base_uri": "https://localhost:8080/",
          "height": 206
        },
        "id": "4roLG4W557FB",
        "outputId": "8fc41437-e5a1-4766-a0a3-da806007b82b"
      },
      "execution_count": null,
      "outputs": [
        {
          "output_type": "execute_result",
          "data": {
            "text/plain": [
              "   Unnamed: 0 label                                      text_original  \\\n",
              "0           0    no  betewe buka twitter cuman ngetweet liat home b...   \n",
              "1           1    no  mas piyuuu mugo2 corona tuh mulut tersumpal ma...   \n",
              "2           2   yes  e100ss gini buka informasi sejelas nya identit...   \n",
              "3           3    no  neng solo wes ono terduga corona cobo neng ati...   \n",
              "4           4    no  midiahn nii akun gak takut takut nya isu coron...   \n",
              "\n",
              "                                          text_final  \n",
              "0  ['betewe', 'buka', 'twitter', 'cuman', 'ngetwe...  \n",
              "1  ['mas', 'piyuuu', 'corona', 'itu', 'mulut', 's...  \n",
              "2  ['begini', 'buka', 'informasi', 'jelas', 'nya'...  \n",
              "3  ['neng', 'solo', 'wes', 'ono', 'duga', 'corona...  \n",
              "4  ['midiahn', 'nii', 'akun', 'tidak', 'takut', '...  "
            ],
            "text/html": [
              "\n",
              "  <div id=\"df-9221de4a-05b0-42da-bd65-2d69f0a19ca3\">\n",
              "    <div class=\"colab-df-container\">\n",
              "      <div>\n",
              "<style scoped>\n",
              "    .dataframe tbody tr th:only-of-type {\n",
              "        vertical-align: middle;\n",
              "    }\n",
              "\n",
              "    .dataframe tbody tr th {\n",
              "        vertical-align: top;\n",
              "    }\n",
              "\n",
              "    .dataframe thead th {\n",
              "        text-align: right;\n",
              "    }\n",
              "</style>\n",
              "<table border=\"1\" class=\"dataframe\">\n",
              "  <thead>\n",
              "    <tr style=\"text-align: right;\">\n",
              "      <th></th>\n",
              "      <th>Unnamed: 0</th>\n",
              "      <th>label</th>\n",
              "      <th>text_original</th>\n",
              "      <th>text_final</th>\n",
              "    </tr>\n",
              "  </thead>\n",
              "  <tbody>\n",
              "    <tr>\n",
              "      <th>0</th>\n",
              "      <td>0</td>\n",
              "      <td>no</td>\n",
              "      <td>betewe buka twitter cuman ngetweet liat home b...</td>\n",
              "      <td>['betewe', 'buka', 'twitter', 'cuman', 'ngetwe...</td>\n",
              "    </tr>\n",
              "    <tr>\n",
              "      <th>1</th>\n",
              "      <td>1</td>\n",
              "      <td>no</td>\n",
              "      <td>mas piyuuu mugo2 corona tuh mulut tersumpal ma...</td>\n",
              "      <td>['mas', 'piyuuu', 'corona', 'itu', 'mulut', 's...</td>\n",
              "    </tr>\n",
              "    <tr>\n",
              "      <th>2</th>\n",
              "      <td>2</td>\n",
              "      <td>yes</td>\n",
              "      <td>e100ss gini buka informasi sejelas nya identit...</td>\n",
              "      <td>['begini', 'buka', 'informasi', 'jelas', 'nya'...</td>\n",
              "    </tr>\n",
              "    <tr>\n",
              "      <th>3</th>\n",
              "      <td>3</td>\n",
              "      <td>no</td>\n",
              "      <td>neng solo wes ono terduga corona cobo neng ati...</td>\n",
              "      <td>['neng', 'solo', 'wes', 'ono', 'duga', 'corona...</td>\n",
              "    </tr>\n",
              "    <tr>\n",
              "      <th>4</th>\n",
              "      <td>4</td>\n",
              "      <td>no</td>\n",
              "      <td>midiahn nii akun gak takut takut nya isu coron...</td>\n",
              "      <td>['midiahn', 'nii', 'akun', 'tidak', 'takut', '...</td>\n",
              "    </tr>\n",
              "  </tbody>\n",
              "</table>\n",
              "</div>\n",
              "      <button class=\"colab-df-convert\" onclick=\"convertToInteractive('df-9221de4a-05b0-42da-bd65-2d69f0a19ca3')\"\n",
              "              title=\"Convert this dataframe to an interactive table.\"\n",
              "              style=\"display:none;\">\n",
              "        \n",
              "  <svg xmlns=\"http://www.w3.org/2000/svg\" height=\"24px\"viewBox=\"0 0 24 24\"\n",
              "       width=\"24px\">\n",
              "    <path d=\"M0 0h24v24H0V0z\" fill=\"none\"/>\n",
              "    <path d=\"M18.56 5.44l.94 2.06.94-2.06 2.06-.94-2.06-.94-.94-2.06-.94 2.06-2.06.94zm-11 1L8.5 8.5l.94-2.06 2.06-.94-2.06-.94L8.5 2.5l-.94 2.06-2.06.94zm10 10l.94 2.06.94-2.06 2.06-.94-2.06-.94-.94-2.06-.94 2.06-2.06.94z\"/><path d=\"M17.41 7.96l-1.37-1.37c-.4-.4-.92-.59-1.43-.59-.52 0-1.04.2-1.43.59L10.3 9.45l-7.72 7.72c-.78.78-.78 2.05 0 2.83L4 21.41c.39.39.9.59 1.41.59.51 0 1.02-.2 1.41-.59l7.78-7.78 2.81-2.81c.8-.78.8-2.07 0-2.86zM5.41 20L4 18.59l7.72-7.72 1.47 1.35L5.41 20z\"/>\n",
              "  </svg>\n",
              "      </button>\n",
              "      \n",
              "  <style>\n",
              "    .colab-df-container {\n",
              "      display:flex;\n",
              "      flex-wrap:wrap;\n",
              "      gap: 12px;\n",
              "    }\n",
              "\n",
              "    .colab-df-convert {\n",
              "      background-color: #E8F0FE;\n",
              "      border: none;\n",
              "      border-radius: 50%;\n",
              "      cursor: pointer;\n",
              "      display: none;\n",
              "      fill: #1967D2;\n",
              "      height: 32px;\n",
              "      padding: 0 0 0 0;\n",
              "      width: 32px;\n",
              "    }\n",
              "\n",
              "    .colab-df-convert:hover {\n",
              "      background-color: #E2EBFA;\n",
              "      box-shadow: 0px 1px 2px rgba(60, 64, 67, 0.3), 0px 1px 3px 1px rgba(60, 64, 67, 0.15);\n",
              "      fill: #174EA6;\n",
              "    }\n",
              "\n",
              "    [theme=dark] .colab-df-convert {\n",
              "      background-color: #3B4455;\n",
              "      fill: #D2E3FC;\n",
              "    }\n",
              "\n",
              "    [theme=dark] .colab-df-convert:hover {\n",
              "      background-color: #434B5C;\n",
              "      box-shadow: 0px 1px 3px 1px rgba(0, 0, 0, 0.15);\n",
              "      filter: drop-shadow(0px 1px 2px rgba(0, 0, 0, 0.3));\n",
              "      fill: #FFFFFF;\n",
              "    }\n",
              "  </style>\n",
              "\n",
              "      <script>\n",
              "        const buttonEl =\n",
              "          document.querySelector('#df-9221de4a-05b0-42da-bd65-2d69f0a19ca3 button.colab-df-convert');\n",
              "        buttonEl.style.display =\n",
              "          google.colab.kernel.accessAllowed ? 'block' : 'none';\n",
              "\n",
              "        async function convertToInteractive(key) {\n",
              "          const element = document.querySelector('#df-9221de4a-05b0-42da-bd65-2d69f0a19ca3');\n",
              "          const dataTable =\n",
              "            await google.colab.kernel.invokeFunction('convertToInteractive',\n",
              "                                                     [key], {});\n",
              "          if (!dataTable) return;\n",
              "\n",
              "          const docLinkHtml = 'Like what you see? Visit the ' +\n",
              "            '<a target=\"_blank\" href=https://colab.research.google.com/notebooks/data_table.ipynb>data table notebook</a>'\n",
              "            + ' to learn more about interactive tables.';\n",
              "          element.innerHTML = '';\n",
              "          dataTable['output_type'] = 'display_data';\n",
              "          await google.colab.output.renderOutput(dataTable, element);\n",
              "          const docLink = document.createElement('div');\n",
              "          docLink.innerHTML = docLinkHtml;\n",
              "          element.appendChild(docLink);\n",
              "        }\n",
              "      </script>\n",
              "    </div>\n",
              "  </div>\n",
              "  "
            ]
          },
          "metadata": {},
          "execution_count": 10
        }
      ]
    },
    {
      "cell_type": "code",
      "source": [
        "# Split antara label dan fitur\n",
        "Train_X, Train_Y = CorpusTrain['text_final'], CorpusTrain['label']\n",
        "Test_X, Test_Y = CorpusTest['text_final'], CorpusTest['label']"
      ],
      "metadata": {
        "id": "xW-BMAqSFmJD"
      },
      "execution_count": null,
      "outputs": []
    },
    {
      "cell_type": "code",
      "source": [
        "# Melakukan encoding untuk label\n",
        "Encoder = LabelEncoder()\n",
        "Train_Y = Encoder.fit_transform(Train_Y)\n",
        "Test_Y = Encoder.fit_transform(Test_Y)"
      ],
      "metadata": {
        "id": "-593OUv9F2IF"
      },
      "execution_count": null,
      "outputs": []
    },
    {
      "cell_type": "code",
      "source": [
        "# Vectorization menggunakan TfidfVectorizer\n",
        "Tfidf_vect = TfidfVectorizer(max_features=5000)\n",
        "Tfidf_vect.fit(CorpusTrain['text_final'])\n",
        "Train_X_Tfidf = Tfidf_vect.transform(Train_X)\n",
        "Test_X_Tfidf = Tfidf_vect.transform(Test_X)\n",
        "\n",
        "print(Tfidf_vect.vocabulary_)"
      ],
      "metadata": {
        "colab": {
          "base_uri": "https://localhost:8080/"
        },
        "id": "PuDEKElQF5SB",
        "outputId": "c72cacf8-866d-4e77-9706-7616f37e89c7"
      },
      "execution_count": null,
      "outputs": [
        {
          "output_type": "stream",
          "name": "stdout",
          "text": [
            "{'buka': 669, 'twitter': 4704, 'cuman': 877, 'liat': 2511, 'home': 1617, 'berita': 498, 'corona': 843, 'panik': 3194, 'pikir': 3378, 'yang': 4956, 'aware': 300, 'aja': 70, 'stay': 4239, 'at': 278, 'nda': 2986, 'rumah': 3793, 'kalau': 2034, 'banget': 372, 'mas': 2644, 'piyuuu': 3398, 'itu': 1816, 'mulut': 2938, 'ma': 2580, 'begini': 459, 'informasi': 1754, 'jelas': 1908, 'nya': 3049, 'identitas': 1666, 'daerah': 894, 'derita': 995, 'jangkit': 1870, 'info': 1747, 'masyarakat': 2655, 'isolasi': 1796, 'kontak': 2302, 'langsung': 2441, 'positif': 3465, 'tutup': 4696, 'neng': 2998, 'solo': 4187, 'wes': 4887, 'ono': 3104, 'duga': 1123, 'ati': 283, 'mu': 2928, 'conora': 837, 'akun': 99, 'tidak': 4540, 'takut': 4370, 'isu': 1806, 'wkwkwkw': 4921, 'hey': 1573, 'gara': 1343, 'masuk': 2654, 'tempat': 4462, 'mesti': 2870, 'gue': 1450, 'kek': 2133, 'jajan': 1840, 'indomaret': 1733, 'sila': 4092, 'tes': 4498, 'cegah': 743, 'other': 3134, 'minum': 2894, 'my': 2960, 'mom': 2913, 'rebus': 3667, 'cb': 739, 'dkt': 1055, 'iya': 1819, 'jaya': 1896, 'jakarta': 1842, 'aj': 69, 'mohon': 2912, 'transparan': 4631, 'mudah': 2931, 'spt': 4216, 'untuk': 4763, 'data': 935, 'tau': 4417, 'parno': 3213, 'gitu': 1410, 'prosedur': 3519, 'tp': 4621, 'lebay': 2478, 'bikin': 540, 'risih': 3753, 'gilang': 1406, 'mahesa': 2591, 'bogor': 601, 'blum': 581, 'hitung': 1600, 'obat': 3060, 'gabisa': 1300, 'bobo': 595, 'sedih': 3943, 'emang': 1183, 'amit': 148, 'kena': 2155, 'momen': 2914, 'pakai': 3159, 'citra': 805, 'moga': 2911, 'masif': 2648, 'kapok': 2072, 'ortu': 3130, 'ku': 2362, 'tinggal': 4563, 'karna': 2085, 'bentar': 485, 'berangkat': 489, 'umroh': 4744, 'sengaja': 3995, 'makan': 2598, 'kasih': 2098, 'virus': 4817, 'sumpah': 4303, 'gatau': 1351, 'reaksi': 3660, 'kayak': 2115, 'udh': 4717, 'dmn': 1061, 'kl': 2235, 'emg': 1186, 'mau': 2660, 'lg': 2504, 'jateng': 1883, 'jatim': 1885, 'siaga': 4066, 'sebar': 3934, 'jabar': 1824, 'yak': 4954, 'pisan': 3395, 'prediksi': 3486, 'pola': 3436, 'amp': 150, 'sejarah': 3956, 'jalan': 1850, 'orang': 3120, 'indo': 1732, 'singapura': 4110, 'clear': 810, 'indonesia': 1737, 'angka': 181, 'infeksi': 1745, 'rendah': 3698, 'dll': 1057, 'dst': 1115, 'back': 328, 'of': 3068, 'the': 4520, 'hand': 1513, 'time': 4556, 'will': 4904, 'benar': 475, 'dr': 1101, 'penyebar': 3315, 'sih': 4081, 'sadar': 3823, 'pasi': 3225, 'egois': 1160, 'perin': 3334, 'bija': 538, 'warga': 4860, 'jaga': 1832, 'preventif': 3493, 'guys': 1467, 'palem': 3169, 'minggu': 2888, 'main': 2593, 'pagi': 3152, 'covid': 858, 'senin': 3998, 'selasa': 3970, 'mati': 2659, 'untung': 4764, 'rebah': 3665, 'aje': 77, 'cepat': 754, 'elisa': 1173, 'jkt': 1940, 'humasjabar': 1647, 'efek': 1155, 'waspada': 4868, 'perilaku': 3333, 'kelompok': 2144, 'minimal': 2891, 'wilayah': 4903, 'zona': 4994, 'sembarang': 3980, 'batuk': 426, 'bersin': 508, 'parah': 3207, 'congorna': 836, 'goblok': 1420, 'semangat': 3979, 'pasien': 3226, 'org': 3125, 'sehat': 3952, 'kait': 2023, 'juang': 1970, 'perlahan': 3340, 'luas': 2560, 'tambah': 4373, 'lupa': 2575, 'doa': 1065, 'cuci': 870, 'tangan': 4382, 'pk': 3399, 'masker': 2651, 'wow': 4936, 'sy': 4335, 'edit': 1149, 'pake': 3163, 'thx': 4536, 'hindar': 1592, 'onlen': 3101, 'sakit': 3839, 'daftar': 895, 'peserta': 3355, 'simulasi': 4104, 'ini': 1757, 'masak': 2646, 'jenderal': 1916, 'papar': 3204, 'faham': 1233, 'kah': 2020, 'cek': 744, 'fakta': 1240, 'tito': 4579, 'istri': 1805, 'habis': 1475, 'sholat': 4057, 'baca': 326, 'end': 1197, 'before': 457, 'satgas': 3903, 'antisipasi': 206, 'tumpang': 4680, 'km': 2250, 'tangkal': 4392, 'toko': 4602, 'restoran': 3723, 'bar': 398, 'do': 1064, 'mana': 2622, 'vs': 4826, 'anak': 157, 'keluarga': 2146, 'ajar': 76, 'unjung': 4760, 'kumpul': 2379, 'saudara': 3910, 'memall': 2708, 'anda': 164, 'jung': 1982, 'dpn': 1095, 'merdeka': 2867, 'penuh': 3310, 'gembira': 1376, 'luntur': 2574, 'tetap': 4502, 'anti': 204, 'haha': 1486, 'nge': 3002, 'broadcast': 649, 'tentang': 4475, 'please': 3412, 'pasti': 3231, 'sumber': 4301, 'kredibel': 2343, 'hoax': 1613, 'for': 1274, 'smart': 4163, 'people': 3322, 'nampak': 2972, 'how': 1625, 'our': 3138, 'menteri': 2853, 'are': 241, 'pandemik': 3185, 'situ': 4132, 'rebut': 3668, 'kuasa': 2366, 'gaduh': 1306, 'pasal': 3221, 'parti': 3216, 'bendung': 480, 'this': 4530, 'ba': 319, 'urgent': 4774, 'lockdown': 2538, 'thank': 4515, 'you': 4973, 'just': 1989, 'stop': 4255, 'stoppaniklawancorona': 4257, 'merana': 2866, 'mmg': 2904, 'nak': 2969, 'sial': 4067, 'dadi': 893, 'kangen': 2061, 'tonton': 4614, 'pakde': 3162, 'lgsg': 2506, 'wedi': 4882, 'jujur': 1975, 'pribadi': 3497, 'tingkat': 4565, 'senantiasa': 3992, 'bersih': 507, 'memelaw': 2732, 'kabinet': 1999, 'gimana': 1408, 'duh': 1124, 'kota': 2331, 'negara': 2990, 'lock': 2537, 'down': 1091, 'presiden': 3489, 'hadap': 1477, 'pandemi': 3183, 'kerja': 2173, 'dekat': 969, 'fadlizon': 1232, 'didu': 1025, 'congor': 835, 'luh': 2566, 'zonk': 4995, 'biar': 531, 'pas': 3220, 'arwah': 257, 'lo': 2535, 'jdi': 1900, 'hantu': 1519, 'sat': 3900, 'lantas': 2447, 'polres': 3445, 'sosialisasi': 4203, 'tertib': 4496, 'bahasa': 344, 'tua': 4656, 'nang': 2974, 'sik': 4085, 'ekor': 1166, 'tok': 4599, 'dajjal': 905, 'imam': 1707, 'turun': 4694, 'kali': 2037, 'mun': 2940, 'dah': 901, 'gilak': 1405, 'ubah': 4709, 'niat': 3007, 'tunda': 4683, 'issue': 1798, 'festival': 1253, 'stress': 4264, 'gang': 1331, 'salah': 3843, 'umum': 4745, 'deny': 986, 'bicara': 535, 'bully': 678, 'cerita': 757, 'ok': 3080, 'maret': 2642, 'besok': 513, 'aa': 0, 'kudu': 2371, 'banyak': 393, 'suplemen': 4314, 'didik': 1024, 'sistem': 4127, 'imun': 1717, 'pintar': 3392, 'dlm': 1058, 'kenal': 2156, 'bakteri': 353, 'kuman': 2377, 'lindung': 2520, 'wabah': 4829, 'penyakit': 3311, 'amin': 146, 'coronavirusupdates': 856, 'https': 1630, 'co': 820, 'tuhan': 4666, 'serah': 4016, 'juara': 1971, 'dunia': 1136, 'klub': 2247, 'panggil': 3188, 'kabul': 2001, 'dasar': 932, 'jokow': 1958, 'ayo': 311, 'tubuh': 4663, 'fit': 1262, 'rajin': 3604, 'viruscorona': 4818, 'anakkolong': 159, 'air': 67, 'nz': 3058, 'kafir': 2015, 'kyak': 2401, 'blm': 572, 'blg': 569, 'tentara': 4476, 'serang': 4018, 'knp': 2257, 'pintu': 3393, 'bs': 652, 'gy': 1470, 'eh': 1161, 'wni': 4927, 'paksa': 3167, 'thailand': 4513, 'batal': 417, 'gelar': 1369, 'byk': 706, 'lingkar': 2522, 'pe': 3251, 'andiarief': 168, 'si': 4064, 'dapat': 922, 'udah': 4715, 'coronavirusindonesia': 853, 'teman': 4458, 'sanitizer': 3878, 'depok': 990, 'timeline': 4557, 'doang': 1066, 'isi': 1792, 'nasional': 2983, 'fraksi': 1280, 'pks': 3407, 'imbau': 1710, 'edukasi': 1150, 'media': 2677, 'radio': 3590, 'online': 3102, 'baru': 404, 'percaya': 3326, 'menkes': 2842, 'dengar': 981, 'walkot': 4850, 'an': 155, 'awat': 302, 'rs': 3779, 'interaksi': 1769, 'studio': 4266, 'alam': 106, 'wapres': 4857, 'wakil': 4846, 'memenkes': 2753, 'iran': 1785, 'sesuai': 4035, 'dgn': 1011, 'putus': 3576, 'ri': 3732, 'nomor': 3029, 'hk': 1604, 'bentuk': 486, 'biaya': 533, 'rangka': 3629, 'upaya': 4768, 'tanggulang': 4388, 'tanggung': 4389, 'pemda': 3289, 'dana': 915, 'sah': 3826, 'tentu': 4478, 'undang': 4751, 'sorotnews': 4200, 'bilang': 542, 'rawa': 3649, 'uji': 4724, 'om': 3090, 'na': 2961, 'jang': 1863, 'contoh': 838, 'wuhan': 4942, 'china': 776, 'coronavirus': 852, 'coronavirusoutbreak': 854, 'breakingnews': 642, 'janganpanik': 1866, 'suspect': 4325, 'seh': 3950, 'sembuh': 3981, 'pa': 3143, 'neh': 2993, 'tengah': 4470, 'teraw': 4485, 'nyinyir': 3057, 'bbrp': 439, 'edar': 1147, 'video': 4811, 'singapore': 4108, 'menetizen': 2819, 'puji': 3550, 'jadi': 1827, 'beliau': 470, 'referensi': 3673, 'kagum': 2019, 'fenomena': 1251, 'tsb': 4651, 'heran': 1567, 'krn': 2353, 'gaya': 1359, 'santuy': 3884, 'asih': 265, 'kadang': 2008, 'canda': 726, 'mrk': 2922, 'teori': 4479, 'dsb': 1114, 'jg': 1928, 'faizalassegaf': 1238, 'pers': 3342, 'bego': 460, 'barang': 399, 'trs': 4648, 'dri': 1105, 'otak': 3132, 'mna': 2906, 'kgy': 2192, 'hebat': 1556, 'darimana': 927, 'ilmu': 1703, 'kadrun': 2012, 'gl': 1414, 'include': 1724, 'jgn': 1930, 'lu': 2558, 'terang': 4483, 'asam': 261, 'kibul': 2209, 'sma': 4161, 'abetpunx': 11, 'sosmed': 4204, 'gilir': 1407, 'sebelah': 3936, 'omong': 3096, 'sok': 4184, 'cc': 740, 'menkesr': 2843, 'smua': 4171, 'who': 4895, 'bebal': 449, 'kalah': 2032, 'desember': 1000, 'kondisi': 2288, 'kiasumarketer': 2208, 'geiszchalifah': 1366, 'coba': 821, 'cina': 796, 'sono': 4192, 'bgtu': 522, 'iri': 1786, 'anggap': 176, 'sombong': 4189, 'bintang': 553, 'dokter': 1070, 'prabowo': 3479, 'sm': 4160, 'sdh': 3930, 'sumbang': 4299, 'maki': 2600, 'ujar': 4723, 'benci': 477, 'ustadtengkuzul': 4786, 'milik': 2881, 'kelola': 2143, 'publik': 3548, 'menhub': 2836, 'metode': 2873, 'memenhub': 2751, 'retweet': 3725, 'cinta': 799, 'tips': 4571, 'ala': 104, 'imunitas': 1718, 'suruh': 4320, 'nyata': 3054, 'aneh': 174, 'coronabukaborokrezim': 846, 'jansen': 1872, 'jsp': 1965, 'full': 1289, 'body': 600, 'rapat': 3636, 'gas': 1349, 'wkwk': 4917, 'zarazettirazr': 4989, 'tiada': 4538, 'peran': 3324, 'asumsi': 276, 'pusing': 3565, 'kesel': 2180, 'ukur': 4732, 'bola': 606, 'bali': 360, 'live': 2532, 'tvri': 4700, 'kaya': 2114, 'doi': 1068, 'butuh': 701, 'jubir': 1972, 'deh': 966, 'yes': 4967, 'hujat': 1640, 'kyk': 2402, 'flu': 1267, 'kurang': 2386, 'udara': 4716, 'plis': 3415, 'korsel': 2324, 'noh': 3026, 'ra': 3580, 'versi': 4806, 'iy': 1818, 'ikut': 1697, 'gapake': 1339, 'horor': 1620, 'gambar': 1324, 'jatoh': 1887, 'trus': 4650, 'amat': 134, 'nilai': 3013, 'remeh': 3695, 'up': 4765, 'tagar': 4350, 'koman': 2268, 'me': 2675, 'semut': 3990, 'guh': 1452, 'suka': 4287, 'meme': 2726, 'list': 2529, 'tular': 4672, 'konfirmasi': 2290, 'korona': 2323, 'bohong': 602, 'psgy': 3533, 'ps': 3529, 'mari': 2643, 'papua': 3205, 'gereja': 1390, 'jayapura': 1897, 'hotel': 1622, 'alaidid': 105, 'fahiraidris': 1235, 'lapor': 2451, 'surabaya': 4316, 'akeh': 87, 'cak': 714, 'keras': 2168, 'ab': 3, 'panas': 3178, 'tb': 4428, 'en': 1194, 'hujan': 1639, 'bintaro': 554, 'geser': 1395, 'duri': 1140, 'jahat': 1836, 'kaget': 2018, 'bayu': 436, 'joo': 1960, 'like': 2518, 'dahulu': 903, 'aplikasi': 230, 'bts': 656, 'twt': 4705, 'dom': 1072, 'jawa': 1891, 'barat': 400, 'bestfanarmy': 515, 'huhu': 1637, 'bengkel': 482, 'tangerang': 4383, 'bekas': 463, 'grand': 1437, 'city': 806, 'website': 4881, 'fitur': 1265, 'kini': 2216, 'huni': 1650, 'kawasan': 2113, 'jamur': 1861, 'kucing': 2369, 'angel': 175, 'bo': 593, 'ready': 3659, 'vcs': 4803, 'avail': 294, 'slot': 4159, 'wajib': 4844, 'dp': 1094, 'wa': 4828, 'recomended': 3670, 'real': 3661, 'hahahaha': 1488, 'maren': 2641, 'renang': 3696, 'banjir': 385, 'gigi': 1403, 'tilang': 4549, 'arah': 238, 'lengkap': 2494, 'kendara': 2162, 'ayu': 313, 'ting': 4562, 'sikap': 4086, 'marak': 2639, 'sangka': 3876, 'cipta': 801, 'sekda': 3960, 'tenang': 4468, 'murah': 2944, 'bandung': 370, 'sarap': 3892, 'iklan': 1695, 'cirebon': 802, 'banten': 389, 'akusukangemil': 101, 'ramayanads': 3618, 'ensiteaa': 1204, 'chenle': 773, 'wml': 4924, 'pindah': 3386, 'kampus': 2055, 'ae': 44, 'yee': 4963, 'bau': 427, 'rasis': 3642, 'bangsat': 382, 'panjang': 3196, 'passport': 3230, 'seberang': 3938, 'or': 3118, 'bule': 677, 'literally': 2531, 'btw': 657, 'mengapa': 2829, 'apbd': 220, 'dki': 1053, 'selamat': 3969, 'sedia': 3942, 'pkl': 3403, 'wib': 4897, 'tks': 4583, 'sampe': 3865, 'walikota': 4849, 'indikasi': 1730, 'les': 2498, 'wawancara': 4874, 'rantau': 3635, 'asli': 269, 'ambil': 138, 'solusi': 4188, 'cerdas': 756, 'hug': 1636, 'hai': 1490, 'kak': 2025, 'keluh': 2147, 'maaf': 2581, 'adm': 39, 'grogol': 1443, 'ganggu': 1332, 'atas': 281, 'tunggu': 4686, 'thanks': 4516, 'herbal': 1568, 'tinggi': 4564, 'badan': 333, 'free': 1282, 'ongkir': 3100, 'probolinggo': 3505, 'gaada': 1297, 'wisata': 4907, 'jual': 1968, 'wajah': 4842, 'jerawat': 1924, 'sekolah': 3964, 'amma': 149, 'cream': 864, 'ayya': 314, 'ki': 2204, 'kiss': 2222, 'datuakatuk': 940, 'anakafir': 158, 'tvonenews': 4699, 'malu': 2613, 'smaandadimana': 4162, 'lho': 2508, 'jajah': 1838, 'layak': 2464, 'balap': 357, 'liar': 2510, 'collegemenfess': 826, 'kuliah': 2374, 'gundar': 1457, 'td': 4432, 'mending': 2813, 'wkw': 4916, 'tgl': 4508, 'heboh': 1557, 'jogja': 1953, 'hr': 1627, 'rapi': 3637, 'abu': 16, 'gamau': 1323, 'tag': 4349, 'kunjung': 2383, 'asing': 267, 'sgt': 4046, 'lbh': 2470, 'bg': 518, 'thdp': 4519, 'terima': 4489, 'sekian': 3962, 'nyawa': 3055, 'manusia': 2634, 'breaking': 641, 'madiaktivis': 2585, 'suspek': 4326, 'umur': 4746, 'pulang': 3552, 'mampir': 2618, 'memalaysia': 2707, 'babi': 324, 'tolong': 4608, 'day': 948, 'kemarin': 2150, 'henti': 1565, 'rokok': 3771, 'beda': 453, 'dampak': 913, 'bioskop': 555, 'korea': 2321, 'selatan': 3971, 'sepi': 4015, 'drastis': 1104, 'titik': 4577, 'konsumsi': 2301, 'abad': 4, 'skrg': 4150, 'gegara': 1365, 'bang': 371, 'kar': 2078, 'de': 953, 'uang': 4708, 'belom': 473, 'won': 4930, 'artis': 255, 'brp': 651, 'duit': 1125, 'kerah': 2167, 'giat': 1402, 'patroli': 3237, 'produk': 3506, 'timbun': 4555, 'harga': 1527, 'nama': 2971, 'pergi': 3329, 'silah': 4093, 'panic': 3193, 'ka': 1993, 'le': 2474, 'sala': 3842, 'anies': 187, 'urus': 4776, 'ibukota': 1658, 'proyek': 3528, 'bangun': 383, 'bongkar': 615, 'batu': 425, 'abis': 13, 'mendak': 2812, 'capai': 730, 'promo': 3516, 'proteksi': 3521, 'rp': 3777, 'loe': 2539, 'non': 3030, 'muslim': 2951, 'laku': 2424, 'bawa': 428, 'israel': 1797, 'bunuh': 688, 'bdgfess': 445, 'bebas': 451, 'giapratamamd': 1401, 'riset': 3752, 'cowo': 859, 'sabun': 3822, 'potensi': 3470, 'steril': 4244, 'drpd': 1110, 'akibat': 91, 'hamil': 1509, 'kolam': 2266, 'dok': 1069, 'dprd': 1098, 'desak': 999, 'pemkot': 3292, 'batas': 421, 'izin': 1822, 'ramai': 3615, 'lt': 2557, 'komentar': 2269, 'mayat': 2665, 'bahaya': 345, 'ah': 55, 'base': 409, 'ajak': 74, 'cuddle': 872, 'rame': 3620, 'balas': 359, 'aniesbaswed': 188, 'kritik': 2350, 'alamat': 107, 'susah': 4322, 'inggris': 1756, 'pulak': 3551, 'simpel': 4102, 'peka': 3266, 'gawat': 1356, 'oh': 3074, 'band': 365, 'ho': 1610, 'coronaoutbreak': 849, 'pakist': 3166, 'korupsi': 2325, 'partai': 3214, 'besar': 511, 'sar': 3888, 'genap': 1378, 'kelakar': 2136, 'kebal': 2122, 'doyan': 1093, 'nasi': 2981, 'republika': 3707, 'ilmuwan': 1704, 'lintas': 2525, 'kelelawar': 2140, 'ingat': 1755, 'first': 1259, 'lady': 2407, 'hajar': 1492, 'yah': 4952, 'ntb': 3041, 'rilis': 3744, 'resmi': 3718, 'pemprov': 3295, 'gmna': 1418, 'gtu': 1447, 'inisiatif': 1758, 'drive': 1106, 'thru': 4535, 'ato': 285, 'usa': 4779, 'tanggap': 4386, 'sibuk': 4072, 'antem': 203, 'senyap': 4007, 'kalimat': 2040, 'patah': 3235, 'tifsembiring': 4543, 'ami': 144, 'bukti': 672, 'melek': 2684, 'betapa': 517, 'msh': 2925, 'otot': 3136, 'cari': 735, 'panggung': 3189, 'tanda': 4380, 'dukung': 1129, 'bangsa': 381, 'apkh': 227, 'tompi': 4610, 'karantina': 2080, 'kaka': 2026, 'pssi': 3538, 'pt': 3541, 'sepakat': 4010, 'liga': 2516, 'libur': 2513, 'setop': 4043, 'pekan': 3267, 'langkah': 2440, 'sunyi': 4310, 'haru': 1534, 'tekan': 4447, 'sulit': 4295, 'chusnulch': 782, 'pimpin': 3383, 'operasi': 3108, 'smoga': 4166, 'lihat': 2517, 'kasihan': 2099, 'lucky': 2563, 'them': 4522, 'in': 1720, 'even': 1220, 'don': 1078, 'know': 2256, 'what': 4892, 'bye': 705, 'yeh': 4964, 'kon': 2287, 'raha': 3594, 'aur': 291, 'ko': 2258, 'kro': 2355, 'was': 4866, 'grafik': 1436, 'tenaga': 4467, 'medis': 2678, 'mobil': 2907, 'ugm': 4719, 'kuat': 2367, 'sholawat': 4058, 'anwar': 212, 'ora': 3119, 'ning': 3014, 'pass': 3229, 'menang': 2807, 'catat': 738, 'kes': 2177, 'mac': 2583, 'lepas': 2497, 'takat': 4364, 'rakyat': 3606, 'itali': 1808, 'duta': 1141, 'euy': 1218, 'ieu': 1679, 'aya': 306, 'nu': 3044, 'coret': 842, 'yra': 4977, 'komoditas': 2273, 'pangan': 3187, 'jelang': 1907, 'puasa': 3545, 'lebaran': 2477, 'aman': 132, 'kendali': 2161, 'khawatir': 2198, 'rubah': 3785, 'hancur': 1512, 'bae': 334, 'cnnindonesia': 819, 'kasi': 2097, 'seram': 4017, 'jir': 1935, 'samsak': 3871, 'gausah': 1354, 'set': 4036, 'sdg': 3929, 'lemah': 2487, 'aktif': 95, 'lulus': 2569, 'novel': 3037, 'sarawak': 3893, 'tl': 4586, 'kr': 2340, 'sambat': 3858, 'mlh': 2902, 'pd': 3244, 'ribut': 3739, 'ay': 305, 'wo': 4928, 'kiya': 2230, 'rab': 3581, 'ata': 279, 'he': 1552, 'koi': 2264, 'puri': 3562, 'duniya': 1137, 'sob': 4177, 'lawan': 2459, 'himbau': 1589, 'gub': 1448, 'bp': 628, 'ganjarpranowo': 1334, 'pakaimasker': 3160, 'umrah': 4743, 'buah': 659, 'yaa': 4946, 'ja': 1823, 'anjeng': 192, 'sayang': 3915, 'dagel': 898, 'ampe': 151, 'dh': 1013, 'deteksi': 1003, 'global': 1415, 'long': 2550, 'and': 163, 'jenis': 1919, 'mbak': 2669, 'demam': 973, 'stasiun': 4232, 'kereta': 2170, 'terminal': 4492, 'bus': 695, 'lembaga': 2488, 'klarifikasi': 2237, 'valid': 4801, 'story': 4259, 'baju': 350, 'pelindung': 3282, 'bumnlawancorona': 682, 'stok': 4254, 'lahir': 2415, 'katolikg': 2107, 'pekerja': 3269, 'check': 771, 'aming': 147, 'marah': 2638, 'ak': 80, 'sindir': 4105, 'bpip': 630, 'diam': 1018, 'mentar': 2852, 'rezim': 3728, 'bacot': 329, 'oke': 3082, 'pejabat': 3263, 'be': 446, 'tuju': 4667, 'larang': 2453, 'abang': 9, 'bakso': 352, 'eta': 1216, 'framing': 1281, 'pengaruh': 3302, 'fren': 1284, 'stamina': 4228, 'lewat': 2503, 'santai': 3882, 'muncul': 2941, 'bsk': 654, 'konyol': 2311, 'ulah': 4733, 'duli': 1131, 'sepele': 4013, 'bodoh': 599, 'opini': 3110, 'gagal': 1310, 'elo': 1176, 'amatir': 135, 'wartawan': 4864, 'konteks': 2304, 'istilah': 1802, 'pantau': 3200, 'awas': 301, 'bidang': 536, 'public': 3547, 'tata': 4412, 'kt': 2359, 'hukum': 1641, 'ekonomi': 1165, 'kompascom': 2276, 'sa': 3812, 'koq': 2317, 'bananahoe': 364, 'cengengesan': 751, 'sejahtera': 3954, 'bantu': 390, 'jkw': 1941, 'mentah': 2850, 'becus': 452, 'adem': 32, 'ilang': 1700, 'muka': 2936, 'bumi': 680, 'mandi': 2624, 'sj': 4136, 'say': 3914, 'no': 3025, 'to': 4596, 'banding': 369, 'tembus': 4461, 'safe': 3824, 'identifikasi': 1665, 'tidur': 4542, 'sejam': 3955, 'jam': 1853, 'et': 1215, 'impera': 1713, 'karo': 2088, 'saiki': 3834, 'khilafah': 2200, 'yo': 4969, 'manut': 2635, 'kabah': 1996, 'pancasila': 3179, 'cah': 712, 'apotek': 231, 'wali': 4848, 'sabda': 3819, 'janji': 1871, 'here': 1570, 'kawan': 2111, 'lelah': 2486, 'pasrah': 3228, 'pdi': 3247, 'optimis': 3117, 'tumbang': 4678, 'work': 4932, 'gerindra': 1391, 'gandeng': 1330, 'pdip': 3248, 'lawanhoaxviruscorona': 2462, 'hah': 1485, 'gurun': 1462, 'anjir': 195, 'sesal': 4033, 'ganti': 1337, 'kai': 2021, 'commuter': 830, 'jabodetabek': 1826, 'bagi': 335, 'serat': 4019, 'keluar': 2145, 'khusus': 2203, 'bumnsiaplawancorona': 683, 'acara': 20, 'dansa': 921, 'pesta': 3357, 'hadir': 1482, 'wna': 4926, 'party': 3218, 'yuri': 4982, 'headline': 1553, 'liverpool': 2533, 'level': 2502, 'analisis': 160, 'rk': 3762, 'kasar': 2096, 'pin': 3384, 'sms': 4170, 'halal': 1496, 'bpom': 634, 'komitmen': 2272, 'petugas': 3360, 'bank': 386, 'mandiri': 2625, 'ui': 4721, 'kabar': 1998, 'bantah': 388, 'kambing': 2048, 'hitam': 1599, 'kompas': 2275, 'mba': 2667, 'gmn': 1417, 'ovo': 3141, 'happy': 1522, 'birthday': 556, 'lancar': 2433, 'rezeki': 3727, 'aami': 1, 'jumat': 1979, 'sabtu': 3821, 'pusat': 3563, 'nikmat': 3012, 'visa': 4819, 'repot': 3705, 'hehehe': 1559, 'pantai': 3197, 'dar': 924, 'sungguh': 4308, 'bingung': 550, 'hidup': 1579, 'allah': 123, 'swt': 4334, 'umat': 4738, 'alami': 108, 'yth': 4979, 'ruju': 3789, 'terimakasih': 4490, 'inti': 1774, 'api': 225, 'tv': 4697, 'baik': 348, 'pi': 3370, 'nkesjkt': 3022, 'dkijakarta': 1054, 'rebak': 3666, 'sekedar': 3961, 'siap': 4069, 'tahan': 4353, 'hapus': 1524, 'korban': 2320, 'enak': 1195, 'lagu': 2411, 'porno': 3461, 'rlthingy': 3765, 'negeri': 2992, 'malas': 2611, 'boss': 623, 'memsaid': 2785, 'cinema': 797, 'memulu': 2791, 'sema': 3978, 'hii': 1583, 'tanzania': 4402, 'hapa': 1521, 'watu': 4873, 'wote': 4935, 'kwa': 2393, 'uma': 4737, 'dm': 1060, 'za': 4985, 'kwanza': 2395, 'suara': 4271, 'temu': 4466, 'jepang': 1921, 'cilegon': 793, 'tni': 4592, 'laksana': 2422, 'ibadah': 1656, 'mena': 2798, 'kau': 2108, 'asia': 264, 'kat': 2101, 'that': 4517, 'new': 3000, 'delhi': 971, 'ade': 30, 'group': 1444, 'kencing': 2159, 'mama': 2615, 'dek': 968, 'beli': 469, 'sayur': 3917, 'adek': 31, 'lanjut': 2442, 'stayathome': 4240, 'hilang': 1587, 'repost': 3703, 'surat': 4317, 'gubernur': 1449, 'ridwankamil': 3742, 'risiko': 3754, 'sease': 3932, 'duk': 1126, 'je': 1901, 'hahaha': 1487, 'hi': 1575, 'is': 1789, 'special': 4207, 'test': 4499, 'lab': 2405, 'angkat': 182, 'bulu': 679, 'whatsapp': 4893, 'kam': 2045, 'prfmnews': 3494, 'teh': 4446, 'cik': 788, 'heula': 1571, 'has': 1538, 'been': 455, 'ky': 2399, 'bkn': 565, 'pegang': 3261, 'bgst': 521, 'jilat': 1932, 'wkwkwkwkwk': 4923, 'pandang': 3182, 'fi': 1254, 'sisi': 4126, 'politik': 3444, 'benda': 478, 'sampah': 3863, 'pantas': 3199, 'papa': 3202, 'meh': 2680, 'igd': 1683, 'status': 4238, 'darurat': 931, 'fadli': 1231, 'geloraco': 1373, 'jamin': 1859, 'grgr': 1442, 'usir': 4783, 'jantung': 1873, 'rmh': 3766, 'jauh': 1889, 'gaes': 1309, 'lamar': 2427, 'wkwkw': 4919, 'memenga': 2748, 'elemen': 1172, 'harap': 1526, 'bayar': 434, 'naik': 2968, 'ben': 474, 'peluk': 3288, 'anjlok': 197, 'kira': 2217, 'vivacoid': 4824, 'boro': 618, 'gratis': 1439, 'internat': 1771, 'mahal': 2589, 'lemot': 2490, 'tri': 4641, 'andai': 165, 'gawe': 1357, 'alkohol': 121, 'merah': 2864, 'tour': 4620, 'cancel': 725, 'im': 1705, 'kelar': 2138, 'mata': 2656, 'acah': 19, 'sana': 3873, 'bob': 594, 'dagang': 897, 'urut': 4777, 'bm': 583, 'then': 4523, 'salji': 3847, 'sesak': 4032, 'tangis': 4391, 'tai': 4358, 'cuk': 875, 'peduli': 3259, 'yusuf': 4984, 'gotong': 1431, 'royong': 3776, 'via': 4810, 'deret': 994, 'gejala': 1367, 'simak': 4097, 'tetangga': 4501, 'smp': 4167, 'smk': 4165, 'zittokabwe': 4991, 'kit': 2223, 'hivi': 1602, 'hakuna': 1495, 'kama': 2046, 'hivyo': 1603, 'kweli': 2396, 'kfc': 2190, 'hehe': 1558, 'gaboleh': 1302, 'kantong': 2067, 'uu': 4797, 'anjing': 194, 'kakak': 2027, 'reda': 3671, 'jokes': 1956, 'giveaway': 1411, 'it': 1807, 'tilik': 4550, 'un': 4748, 'libat': 2512, 'galang': 1318, 'donasi': 1080, 'belanda': 466, 'sepatu': 4011, 'spesial': 4210, 'um': 4736, 'sansfess': 3881, 'enggak': 1200, 'edisi': 1148, 'rachlannashidik': 3585, 'ad': 24, 'tkut': 4585, 'die': 1026, 'nye': 3056, 'bnyk': 592, 'wacana': 4831, 'jerat': 1923, 'menit': 2841, 'yahh': 4953, 'ketat': 2184, 'kilat': 2213, 'geely': 1364, 'kembang': 2152, 'icon': 1660, 'fairuz': 1237, 'thread': 4533, 'sama': 3852, 'temanhidupsehat': 4459, 'bokis': 605, 'coronavirusupdate': 855, 'dg': 1010, 'pilek': 3379, 'oe': 3066, 'jarang': 1879, 'gampang': 1326, 'barusan': 405, 'ngeri': 3003, 'enteng': 1207, 'da': 889, 'put': 3568, 'elu': 1179, 'gpp': 1434, 'ogah': 3073, 'usul': 4787, 'cocok': 822, 'jago': 1835, 'lha': 2507, 'tropis': 4647, 'bro': 648, 'dpt': 1100, 'obyek': 3064, 'teliti': 4455, 'perhati': 3330, 'persis': 3344, 'tulis': 4673, 'id': 1661, 'confident': 834, 'republikaonline': 3708, 'ayoo': 312, 'rizmawidiono': 3759, 'cm': 815, 'tinda': 4560, 'paham': 3154, 'fungsi': 1291, 'humas': 1645, 'polri': 3447, 'detikcom': 1005, 'tandanvradio': 4381, 'indon': 1735, 'normal': 3033, 'bna': 584, 'hy': 1654, 'mai': 2592, 'aik': 63, 'ee': 1152, 'baat': 322, 'wazir': 4877, 'umwal': 4747, 'saa': 3813, 'kila': 2211, 'taarifa': 4344, 'vya': 4827, 'fa': 1227, 'pamoja': 3176, 'toa': 4597, 'wizara': 4913, 'afya': 47, 'artikel': 254, 'verifikasi': 4805, 'jawab': 1892, 'kaga': 2016, 'healthy': 1555, 'alas': 109, 'koar': 2259, 'ajah': 72, 'lumpuh': 2571, 'industri': 1744, 'film': 1257, 'still': 4251, 'jaksel': 1847, 'mepet': 2863, 'dikit': 1032, 'bagus': 337, 'datuk': 942, 'karniilyas': 2086, 'saksi': 3840, 'tampil': 4375, 'kampung': 2054, 'mrt': 2924, 'ajaib': 73, 'pdhl': 3246, 'bumn': 681, 'lokasi': 2545, 'keren': 2169, 'gercap': 1389, 'kantor': 2068, 'dinas': 1037, 'wn': 4925, 'cuy': 887, 'cerna': 760, 'cuit': 874, 'ber': 487, 'ria': 3733, 'tuak': 4657, 'maklum': 2601, 'kepala': 2166, 'jatuh': 1888, 'lgi': 2505, 'motor': 2917, 'helm': 1560, 'macet': 2584, 'bu': 658, 'risma': 3755, 'olahraga': 3087, 'berani': 490, 'salut': 3850, 'periksa': 3332, 'aq': 235, 'sk': 4138, 'bc': 441, 'fadjroel': 1230, 'bpk': 633, 'jajar': 1841, 'kati': 2105, 'topik': 4616, 'awan': 299, 'sore': 4197, 'wae': 4833, 'fahrihamzah': 1236, 'serbu': 4021, 'zero': 4990, 'tvone': 4698, 'press': 3491, 'conference': 833, 'thearieair': 4521, 'tegur': 4445, 'kominfo': 2270, 'pemkab': 3291, 'klaten': 2239, 'pesan': 3352, 'budikaryas': 668, 'saking': 3838, 'bin': 546, 'istana': 1799, 'ratas': 3645, 'dewa': 1007, 'pacar': 3145, 'alias': 117, 'juru': 1987, 'ujian': 4725, 'rukun': 3792, 'iman': 1708, 'sorong': 4198, 'segin': 3949, 'jiwa': 1936, 'suci': 4278, 'pertiwi': 3350, 'mantan': 2631, 'bek': 461, 'kategori': 2104, 'buzzer': 703, 'hati': 1542, 'omnibus': 3095, 'law': 2458, 'azab': 315, 'sg': 4045, 'but': 698, 'by': 704, 'menumber': 2859, 'rumput': 3796, 'hijau': 1584, 'hoaks': 1612, 'jemur': 1914, 'tka': 4582, 'balikpap': 362, 'lemon': 2489, 'prakerja': 3481, 'angin': 180, 'utara': 4791, 'rekrutmen': 3688, 'cpns': 862, 'batang': 420, 'ubi': 4711, 'sktr': 4153, 'meter': 2872, 'getah': 1398, 'kaki': 2029, 'deng': 980, 'tongkrong': 4613, 'jagajarak': 1833, 'krakatau': 2341, 'gunung': 1460, 'rumahaja': 3794, 'april': 234, 'jarah': 1877, 'pulau': 3553, 'relawan': 3692, 'pns': 3426, 'amerika': 142, 'zoom': 4996, 'curi': 879, 'republik': 3706, 'bbm': 438, 'antek': 202, 'mbako': 2670, 'kubur': 2368, 'jenazah': 1915, 'tolak': 4606, 'inko': 1759, 'sirf': 4123, 'nasehat': 2980, 'rantai': 3634, 'terap': 4484, 'psbb': 3530, 'tangkap': 4393, 'foto': 1278, 'rencana': 3697, 'exo': 1226, 'pasar': 3223, 'idul': 1675, 'fitri': 1264, 'siang': 4068, 'darah': 925, 'razia': 3656, 'sepeda': 4012, 'sarung': 3897, 'makam': 2597, 'hoak': 1611, 'viral': 4815, 'televisi': 4453, 'akses': 93, 'datang': 936, 'pedulilindung': 3260, 'pdp': 3250, 'sumbar': 4300, 'kolibri': 2267, 'laut': 2457, 'massal': 2653, 'kedok': 2130, 'layan': 2465, 'menu': 2856, 'chat': 770, 'room': 3775, 'james': 1858, 'manfaat': 2627, 'ketik': 2186, 'mi': 2877, 'hirup': 1596, 'boleh': 609, 'mudik': 2932, 'menetflix': 2817, 'buang': 660, 'oven': 3140, 'organisasi': 3127, 'syarat': 4338, 'ancam': 162, 'denda': 979, 'penjara': 3307, 'memicrowave': 2764, 'matahari': 2657, 'terbit': 4487, 'universitas': 4759, 'hiroshima': 1595, 'gelombang': 1371, 'sebab': 3933, 'rusa': 3799, 'bom': 610, 'ahli': 57, 'getar': 1399, 'radiasi': 3588, 'produksi': 3507, 'teknologi': 4448, 'konferensi': 2289, 'kanker': 2064, 'centre': 753, 'rekomendasi': 3686, 'bahan': 340, 'minyak': 2895, 'olah': 3086, 'susu': 4327, 'asal': 260, 'hewan': 1572, 'baterai': 422, 'ponsel': 3457, 'telepon': 4452, 'darat': 926, 'selesai': 3973, 'com': 827, 'chloroquine': 778, 'malam': 2609, 'rusak': 3800, 'halus': 1505, 'ac': 18, 'ulang': 4735, 'quarantine': 3578, 'jaring': 1881, 'kpk': 2336, 'bas': 406, 'napi': 2977, 'koruptor': 2326, 'out': 3139, 'kmrn': 2253, 'karyawan': 2094, 'memeeting': 2730, 'serius': 4028, 'puncak': 3557, 'sebentar': 3937, 'agustus': 54, 'efektif': 1156, 'ciri': 803, 'adzan': 43, 'sosial': 4202, 'sebut': 3940, 'profesor': 3512, 'harvard': 1537, 'buat': 662, 'putar': 3569, 'bakar': 351, 'milu': 2883, 'mala': 2608, 'jakpus': 1845, 'polisi': 3442, 'bca': 442, 'cianjur': 783, 'vaksin': 4800, 'alhamdulillah': 115, 'sertifikat': 4030, 'super': 4311, 'tik': 4545, 'musnah': 2953, 'iq': 1782, 'kelas': 2139, 'komunis': 2286, 'jambu': 1857, 'alat': 110, 'mampus': 2620, 'dep': 987, 'suhu': 4284, 'tayang': 4427, 'youtube': 4976, 'raja': 3601, 'bangladesh': 380, 'wafat': 4834, 'bencana': 476, 'depan': 989, 'usaha': 4780, 'seru': 4031, 'iii': 1687, 'dorong': 1087, 'social': 4180, 'mutlak': 2957, 'agama': 50, 'stancing': 4229, 'diada': 1015, 'hibur': 1576, 'swasta': 4333, 'transportasi': 4632, 'operasional': 3109, 'ruang': 3784, 'jarak': 1878, 'polda': 3437, 'metro': 2874, 'puluh': 3556, 'mei': 2681, 'as': 258, 'kronologi': 2356, 'tuduh': 4664, 'komisi': 2271, 'dpr': 1097, 'menarkoba': 2809, 'apa': 215, 'lipat': 2526, 'tida': 4539, 'gabung': 1303, 'kad': 2006, 'saran': 3890, 'binatang': 548, 'pecat': 3254, 'aduh': 41, 'travel': 4633, 'italia': 1809, 'penting': 3309, 'wisatawan': 4908, 'investasi': 1776, 'kwenye': 2397, 'picu': 3372, 'tubi': 4661, 'gila': 1404, 'gyy': 1471, 'deg': 964, 'ada': 25, 'hrs': 1628, 'anis': 189, 'gengsi': 1382, 'mr': 2921, 'kompeten': 2279, 'statement': 4234, 'gaperlu': 1341, 'galak': 1317, 'coronaindonesia': 848, 'beritaviral': 502, 'agus': 53, 'putranto': 3574, 'gajahpolkadot': 1314, 'difteri': 1027, 'pani': 3192, 'fokus': 1271, 'bahas': 343, 'kagak': 2017, 'cermat': 758, 'aksi': 94, 'borong': 619, 'loh': 2543, 'gi': 1400, 'update': 4769, 'negatif': 2991, 'maksud': 2606, 'crew': 865, 'lebih': 2479, 'ganas': 1328, 'jd': 1899, 'from': 1286, 'clickbait': 812, 'kopi': 2315, 'ucap': 4712, 'jengkel': 1918, 'copot': 840, 'slh': 4156, 'judul': 1973, 'cursedkidd': 882, 'wil': 4902, 'dada': 891, 'hotline': 1623, 'republikmerdeka': 3709, 'koordinasi': 2312, 'hubung': 1633, 'hiv': 1601, 'hum': 1644, 'see': 3944, 'ji': 1931, 'mamak': 2617, 'akak': 82, 'kk': 2231, 'lahhh': 2414, 'memedsos': 2728, 'rti': 3783, 'memakasih': 2702, 'manis': 2630, 'ama': 130, 'honda': 1618, 'cicil': 785, 'potong': 3471, 'angsur': 186, 'unit': 4757, 'thn': 4531, 'yaaa': 4947, 'commuterline': 831, 'jadwal': 1828, 'rutinitas': 3807, 'bareng': 401, 'pijat': 3376, 'konsumen': 2300, 'turis': 4692, 'lolos': 2548, 'bandara': 367, 'kece': 2126, 'el': 1170, 'ampun': 153, 'tukang': 4668, 'tangkis': 4394, 'bodo': 598, 'sans': 3880, 'kiamat': 2206, 'sahabatrg': 3828, 'arab': 237, 'saudi': 3911, 'ikuti': 1698, 'perihal': 3331, 'kirim': 2220, 'balik': 361, 'bupati': 689, 'berau': 494, 'peluang': 3287, 'bisnis': 561, 'nusantara': 3047, 'anggar': 177, 'influencer': 1746, 'bah': 338, 'wktu': 4915, 'konspirasi': 2298, 'bina': 547, 'rangin': 3628, 'keruh': 2175, 'suasana': 4272, 'vitamin': 4823, 'rutin': 3806, 'skripsi': 4151, 'dbd': 951, 'fucek': 1287, 'tempel': 4463, 'tgr': 4509, 'retail': 3724, 'bawang': 430, 'putih': 3572, 'jahe': 1837, 'campur': 722, 'daun': 944, 'sehar': 3951, 'murni': 2946, 'dosa': 1088, 'keri': 2171, 'usia': 4782, 'rentan': 3699, 'situasi': 4133, 'derajat': 992, 'utama': 4789, 'bahu': 346, 'wajar': 4843, 'iyo': 1821, 'mn': 2905, 'shi': 4055, 'subtanyarl': 4274, 'sini': 4115, 'ajaa': 71, 'handle': 1514, 'us': 4778, 'mcm': 2673, 'len': 2492, 'awak': 296, 'standar': 4230, 'internasional': 1770, 'po': 3427, 'tinja': 4566, 'robot': 3768, 'kata': 2102, 'drun': 1112, 'ulama': 4734, 'tolol': 4607, 'seluruh': 3977, 'tanah': 4378, 'idn': 1670, 'times': 4558, 'kualitas': 2365, 'demen': 974, 'giring': 1409, 'jk': 1939, 'mengerti': 2833, 'tahu': 4355, 'nurani': 3046, 'astaghfirul': 274, 'kamil': 2049, 'lantar': 2446, 'riwayat': 3757, 'yudhakhel': 4981, 'kosong': 2329, 'gula': 1453, 'perdana': 3327, 'januari': 1874, 'jebol': 1904, 'tulang': 4671, 'cod': 823, 'line': 2521, 'menews': 2824, 'program': 3513, 'lurah': 2577, 'seminar': 3985, 'kacau': 2005, 'tiket': 4546, 'bhw': 529, 'wanita': 4855, 'dance': 916, 'rest': 3722, 'amigos': 145, 'kemang': 2149, 'buying': 702, 'supermarket': 4312, 'wkwkkw': 4918, 'kontribusi': 2308, 'jan': 1862, 'ohh': 3075, 'good': 1425, 'taman': 4372, 'ttp': 4655, 'musik': 2949, 'dekho': 970, 'ragu': 3593, 'go': 1419, 'not': 3034, 'aing': 64, 'tim': 4551, 'basmi': 412, 'telpon': 4456, 'jemput': 1913, 'kawanpajak': 2112, 'daring': 928, 'meng': 2826, 'kdrama': 2121, 'kompetisi': 2280, 'mak': 2596, 'mantap': 2632, 'atu': 287, 'sia': 4065, 'sebel': 3935, 'petunjuk': 3361, 'anggota': 178, 'palsu': 3172, 'rahasia': 3595, 'tuntut': 4691, 'tlg': 4587, 'spy': 4217, 'akurat': 100, 'atasi': 282, 'daya': 949, 'welcome': 4884, 'mumpung': 2939, 'musim': 2950, 'wahabislokal': 4838, 'donk': 1084, 'itc': 1811, 'ramayana': 3617, 'nie': 3008, 'resah': 3712, 'siswa': 4128, 'lomba': 2549, 'memaen': 2694, 'sidang': 4074, 'pgn': 3362, 'adu': 40, 'masa': 2645, 'man': 2621, 'ih': 1684, 'ayah': 307, 'gapapa': 1340, 'hambat': 1508, 'tabung': 4348, 'hp': 1626, 'pemuda': 3297, 'hu': 1631, 'lampung': 2432, 'sit': 4129, 'sd': 3928, 'cekalcoronasaveekonom': 745, 'kobar': 2260, 'anjg': 193, 'dateng': 938, 'dalem': 909, 'bata': 415, 'pasang': 3222, 'empat': 1192, 'blok': 577, 'desa': 997, 'bripka': 647, 'ruhutsitompul': 3788, 'phk': 3366, 'odp': 3065, 'oalah': 3059, 'kulit': 2375, 'rata': 3644, 'bi': 530, 'bismillah': 560, 'yaal': 4950, 'lempar': 2491, 'baku': 355, 'hantam': 1518, 'semenjak': 3983, 'aktifitas': 96, 'ganda': 1329, 'energi': 1199, 'gemar': 1374, 'enam': 1196, 'vivanews': 4825, 'atur': 289, 'bos': 621, 'setau': 4039, 'maksimal': 2605, 'defisit': 963, 'kilang': 2212, 'gae': 1307, 'album': 111, 'wish': 4909, 'luck': 2562, 'detikfinance': 1006, 'thr': 4532, 'idha': 1668, 'tindak': 4561, 'joko': 1957, 'hasil': 1539, 'tugas': 4665, 'oposisi': 3113, 'lucu': 2564, 'idtodayco': 1674, 'damai': 912, 'tantang': 4398, 'lbp': 2472, 'bela': 464, 'min': 2886, 'pilih': 3380, 'wartapolitik': 4863, 'ph': 3363, 'your': 4975, 'jurus': 1988, 'kas': 2095, 'utang': 4790, 'insentif': 1763, 'grab': 1435, 'cinere': 798, 'sopir': 4196, 'sanggup': 3875, 'kredit': 2344, 'jendral': 1917, 'rajawali': 3603, 'minta': 2893, 'klu': 2245, 'sudirm': 4280, 'dompet': 1077, 'belok': 472, 'tajam': 4361, 'tiru': 4576, 'taiw': 4360, 'utbk': 4793, 'iseng': 1791, 'capek': 733, 'stafsus': 4227, 'camat': 721, 'titip': 4578, 'musibah': 2948, 'dahsyat': 902, 'kitu': 2229, 'anu': 211, 'so': 4174, 'vaccine': 4799, 'found': 1279, 'bijak': 539, 'pandai': 3181, 'kuota': 2385, 'klik': 2242, 'link': 2524, 'bawah': 429, 'www': 4944, 'raya': 3652, 'sanksi': 3879, 'bayi': 435, 'lansia': 2443, 'listrik': 2530, 'days': 950, 'we': 4878, 'now': 3038, 'way': 4876, 'word': 4931, 'when': 4894, 'they': 4527, 'saw': 3912, 'future': 1293, 'googling': 1427, 'with': 4912, 'web': 4880, 'diskon': 1047, 'ojol': 3079, 'sumatera': 4298, 'gojek': 1423, 'pokok': 3434, 'garam': 1345, 'disinfektan': 1044, 'riau': 3736, 'plastik': 3410, 'pekanbaru': 3268, 'kabur': 2003, 'indah': 1726, 'lonjak': 2553, 'android': 172, 'store': 4258, 'diary': 1019, 'start': 4231, 'sim': 4096, 'jari': 1880, 'kunci': 2381, 'anggur': 179, 'dn': 1062, 'ratus': 3648, 'ton': 4611, 'teroris': 4494, 'antri': 208, 'feeling': 1250, 'krna': 2354, 'debu': 958, 'polusi': 3454, 'racun': 3586, 'gundidr': 1458, 'eee': 1153, 'blosseolls': 579, 'memember': 2735, 'sii': 4083, 'bibit': 534, 'mah': 2587, 'hmmm': 1607, 'menegr': 2816, 'uda': 4714, 'upacara': 4766, 'bab': 323, 'protes': 3522, 'pelatih': 3279, 'syukur': 4342, 'sing': 4107, 'due': 1122, 'bayang': 433, 'ops': 3114, 'arti': 252, 'maju': 2595, 'apresiasi': 233, 'sigap': 4079, 'saat': 3814, 'potret': 3472, 'putra': 3573, 'ashraf': 263, 'aji': 78, 'kuda': 2370, 'hadist': 1483, 'sentuh': 4006, 'al': 103, 'tribunnews': 4643, 'tribun': 4642, 'palu': 3173, 'nekat': 2995, 'karaoke': 2081, 'tuban': 4660, 'kuna': 2380, 'mtu': 2927, 'kn': 2254, 'adzab': 42, 'swab': 4331, 'sempit': 3987, 'chinese': 777, 'article': 253, 'modal': 2908, 'anjur': 199, 'sbg': 3919, 'arus': 256, 'kpd': 2335, 'grup': 1445, 'ruko': 3791, 'sukses': 4291, 'kwamba': 2394, 'juu': 1991, 'ugonjwa': 4720, 'jua': 1967, 'kwetu': 2398, 'wetu': 4888, 'zao': 4988, 'jiwakemanusiaanpolr': 1937, 'sontek': 4193, 'ambyar': 139, 'hm': 1605, 'te': 4433, 'babinsa': 325, 'aparat': 218, 'disinformasi': 1045, 'memene': 2745, 'triliun': 4644, 'physical': 3368, 'bonceng': 611, 'receh': 3669, 'kosan': 2328, 'project': 3515, 'satu': 3909, 'sabar': 3818, 'sprti': 4215, 'warung': 4865, 'tmpt': 4591, 'duduk': 1121, 'cafe': 711, 'dine': 1038, 'smpe': 4169, 'jilid': 1933, 'karap': 2082, 'idulfitri': 1676, 'cyber': 888, 'nasionalis': 2984, 'lawanhoax': 2461, 'pilpres': 3382, 'indonesiatanpahoax': 1743, 'ideologi': 1667, 'alih': 118, 'lapang': 2448, 'plonga': 3417, 'plongo': 3418, 'gugus': 1451, 'reposted': 3704, 'tatanan': 4415, 'panglima': 3191, 'meninjau': 2840, 'kesiap': 2182, 'kabupaten': 2002, 'pkp': 3405, 'esok': 1214, 'bandar': 366, 'ye': 4961, 'elok': 1177, 'fasilitas': 1246, 'subsidi': 4273, 'ukt': 4731, 'menihh': 2839, 'lantai': 2445, 'serta': 4029, 'waswas': 4870, 'enggan': 1202, 'paket': 3165, 'cpt': 863, 'on': 3097, 'burung': 694, 'sikm': 4088, 'timbang': 4553, 'teriak': 4488, 'pingsan': 3389, 'mimpi': 2885, 'sosok': 4205, 'sendiri': 3993, 'kerumun': 2176, 'top': 4615, 'ribu': 3738, 'sambut': 3860, 'dua': 1118, 'luka': 2568, 'provinsi': 3526, 'timur': 4559, 'pelayan': 3280, 'tatap': 4416, 'pajak': 3157, 'kartu': 2091, 'mahasiswa': 2590, 'cha': 767, 'mench': 2811, 'basi': 410, 'vita': 4822, 'rais': 3600, 'lampu': 2431, 'nyala': 3050, 'kapasitas': 2071, 'murid': 2945, 'akal': 83, 'tah': 4352, 'diri': 1041, 'pls': 3419, 'jeung': 1927, 'dulur': 1133, 'dumdum': 1134, 'ribat': 3737, 'fwbfess': 1294, 'mesjid': 2869, 'rabu': 3584, 'ptsp': 3542, 'call': 719, 'center': 752, 'david': 945, 'siksa': 4089, 'aktivitas': 97, 'mesin': 2868, 'tahun': 4356, 'protokol': 3523, 'maha': 2588, 'weh': 4883, 'lubang': 2561, 'nyaman': 3051, 'taruh': 4410, 'minat': 2887, 'senang': 3991, 'sulsel': 4296, 'kian': 2207, 'signifikan': 4080, 'ramlirizal': 3622, 'rizal': 3758, 'ramli': 3621, 'wewe': 4889, 'kenya': 2165, 'than': 4514, 'done': 1081, 'report': 3701, 'support': 4315, 'aqwalululama': 236, 'ramadh': 3610, 'gt': 1446, 'istimewa': 1803, 'trending': 4637, 'ramadhanindonesiaistimewa': 3611, 'santri': 3883, 'rapid': 3638, 'international': 1772, 'lumrah': 2572, 'langgar': 2437, 'gera': 1384, 'terlanjur': 4491, 'woi': 4929, 'asu': 275, 'radioelshinta': 3591, 'official': 3070, 'ind': 1725, 'memendikbuddicarimahasiswa': 2744, 'ngk': 3004, 'ksh': 2357, 'kurva': 2390, 'landai': 2435, 'positive': 3466, 'kabisa': 2000, 'watanzania': 4872, 'belas': 468, 'tanggal': 4385, 'bnpb': 589, 'personel': 3346, 'polsek': 3452, 'malang': 2610, 'posko': 3467, 'tumbuh': 4679, 'fisik': 1260, 'onehealthkipm': 3099, 'humasbkipm': 1646, 'kkpgoid': 2234, 'itjen': 1814, 'kkp': 2233, 'sari': 3894, 'cabut': 709, 'amal': 131, 'rawat': 3651, 'tidakmudik': 4541, 'du': 1117, 'brg': 644, 'kalang': 2033, 'kab': 1995, 'diy': 1052, 'tenggara': 4471, 'kalbar': 2035, 'kalsel': 2041, 'sewa': 4044, 'jangkau': 1869, 'riaricis': 3734, 'th': 4511, 'tarawih': 4405, 'jamaah': 1854, 'masjid': 2649, 'majlis': 2594, 'pesantren': 3353, 'unik': 4756, 'bahagia': 339, 'sampek': 3866, 'bln': 573, 'la': 2403, 'rusia': 3801, 'mparannews': 2918, 'entar': 1205, 'knapa': 2255, 'skala': 4139, 'krisis': 2347, 'psbbamiesgagaltotal': 3531, 'sobat': 4179, 'kamis': 2050, 'memadiun': 2693, 'juli': 1976, 'peta': 3358, 'au': 290, 'box': 626, 'redam': 3672, 'rasa': 3640, 'juni': 1983, 'tegak': 4441, 'abai': 8, 'pandemic': 3184, 'pmi': 3423, 'mememe': 2737, 'denpasar': 985, 'hidung': 1578, 'perkara': 3339, 'salam': 3845, 'etika': 1217, 'ide': 1664, 'solat': 4186, 'jum': 1978, 'shaf': 4050, 'wkwkwk': 4920, 'yakin': 4955, 'alissawahid': 120, 'gus': 1463, 'dur': 1138, 'tulus': 4676, 'basa': 407, 'puas': 3544, 'sisa': 4125, 'ohmybeautybank': 3076, 'plus': 3421, 'senjata': 4000, 'yel': 4965, 'semprot': 3988, 'opm': 3111, 'ujung': 4727, 'lumayan': 2570, 'gaji': 1316, 'guru': 1461, 'tk': 4581, 'nasib': 2982, 'food': 1273, 'fess': 1252, 'sapi': 3886, 'ampuh': 152, 'gapernah': 1342, 'hak': 1494, 'bre': 639, 'bengong': 484, 'pra': 3478, 'channel': 768, 'nah': 2965, 'lak': 2419, 'sath': 3904, 'help': 1561, 'erickthohir': 1211, 'stopmudikcekalcorona': 4256, 'thenewnormal': 4524, 'kui': 2373, 'memerang': 2760, 'pabrik': 3144, 'jepara': 1922, 'job': 1949, 'awal': 297, 'beresiko': 496, 'tunjuk': 4689, 'hirau': 1594, 'emosi': 1191, 'mega': 2679, 'best': 514, 'engkau': 1203, 'sektor': 3965, 'saham': 3831, 'nur': 3045, 'os': 3131, 'curhat': 878, 'og': 3072, 'maklumat': 2602, 'kapolr': 2074, 'dprriapresiasipolr': 1099, 'prihatin': 3499, 'era': 1209, 'harto': 1533, 'sodara': 4181, 'posisi': 3464, 'patuh': 3239, 'perintah': 3336, 'pariwisata': 3210, 'kreatif': 2342, 'promosi': 3517, 'tarik': 4409, 'safenetvoice': 3825, 'bocor': 597, 'pidana': 3373, 'pmk': 3424, 'rekam': 3683, 'memenah': 2742, 'ikhlas': 1692, 'mentri': 2855, 'skrang': 4149, 'dungu': 1135, 'strategi': 4260, 'militer': 2882, 'apd': 222, 'lapar': 2449, 'nai': 2967, 'nkes': 3021, 'disiplin': 1046, 'guna': 1456, 'klinik': 2243, 'sel': 3967, 'kamar': 2047, 'belanja': 467, 'atm': 284, 'droplet': 1109, 'resiko': 3717, 'cium': 807, 'alergi': 112, 'cair': 713, 'nafas': 2963, 'buruk': 693, 'lingkung': 2523, 'item': 1813, 'narasi': 2978, 'respons': 3721, 'club': 814, 'fix': 1266, 'treatment': 4634, 'dijal': 1031, 'maw': 2662, 'kompi': 2281, 'batalyon': 418, 'pelopor': 3285, 'brimob': 646, 'dpp': 1096, 'aipda': 65, 'harkamtibmas': 1531, 'pangkal': 3190, 'ojek': 3078, 'bhaktibrimob': 527, 'uganda': 4718, 'hospital': 1621, 'perut': 3351, 'laptop': 2452, 'total': 4618, 'oliv': 3088, 'kasur': 2100, 'tanam': 4379, 'salur': 3849, 'am': 129, 'ktp': 2361, 'ntt': 3043, 'asknonym': 268, 'batin': 424, 'sis': 4124, 'pinggir': 3388, 'hmm': 1606, 'hemat': 1562, 'insyaal': 1768, 'shalat': 4051, 'menag': 2802, 'gede': 1362, 'auto': 293, 'sense': 4002, 'crisis': 866, 'one': 3098, 'pie': 3375, 'tante': 4399, 'proses': 3520, 'sby': 3921, 'only': 3103, 'kutip': 2391, 'aco': 22, 'memobile': 2771, 'pcr': 3243, 'diabetes': 1014, 'klaim': 2236, 'kenang': 2157, 'tuku': 4670, 'prank': 3484, 'humor': 1649, 'periode': 3337, 'ir': 1783, 'berkah': 503, 'rasulullah': 3643, 'addiems': 29, 'tweet': 4702, 'soon': 4194, 'fiersabesar': 1255, 'gada': 1305, 'andal': 166, 'everything': 1223, 'dudu': 1120, 'fuck': 1288, 'emng': 1189, 'didi': 1023, 'budaya': 666, 'semester': 3984, 'adab': 26, 'istirahat': 1804, 'khair': 2193, 'ungkap': 4754, 'bawaslu': 431, 'bihalal': 537, 'pilkada': 3381, 'streaming': 4262, 'ketua': 2189, 'inforiau': 1752, 'cerah': 755, 'yb': 4960, 'ss': 4220, 'cetak': 762, 'alternatif': 126, 'tunai': 4682, 'prof': 3509, 'haris': 1530, 'azhar': 316, 'gmana': 1416, 'anjirr': 196, 'herd': 1569, 'immunity': 1712, 'life': 2514, 'rekan': 3684, 'produktif': 3508, 'pol': 3435, 'andrianto': 171, 'lbih': 2471, 'gk': 1413, 'kya': 2400, 'serentak': 4023, 'widodo': 4898, 'bokap': 604, 'populasi': 3459, 'menull': 2858, 'indones': 1736, 'kontra': 2306, 'bulan': 675, 'hali': 1500, 'chukua': 780, 'hili': 1588, 'mulia': 2937, 'taat': 4345, 'syariah': 4339, 'ppn': 3474, 'bappenas': 397, 'luncur': 2573, 'dashboard': 934, 'acuan': 23, 'evaluasi': 1219, 'pelaksana': 3274, 'susun': 4329, 'event': 1221, 'usut': 4788, 'kontan': 2303, 'adil': 35, 'wenang': 4886, 'dites': 1051, 'tubirfess': 4662, 'beres': 495, 'buku': 673, 'woy': 4937, 'oxfara': 3142, 'galucu': 1322, 'aplg': 229, 'huhuhu': 1638, 'jabat': 1825, 'jomblo': 1959, 'rindu': 3746, 'domisili': 1076, 'dokumen': 1071, 'terbang': 4486, 'sbyfess': 3922, 'pamer': 3175, 'krl': 2352, 'area': 242, 'kecewa': 2127, 'cita': 804, 'siplinpolahidupbaru': 4120, 'tanyoana': 4401, 'hyung': 1655, 'virtual': 4816, 'samalawancorona': 3855, 'menewnormal': 2820, 'nihil': 3009, 'introvert': 1775, 'tawar': 4426, 'stevaniehuangg': 4247, 'golong': 1424, 'jae': 1829, 'geram': 1387, 'tulungagung': 4675, 'gesa': 1394, 'ente': 1206, 'sambung': 3859, 'follow': 1272, 'ig': 1682, 're': 3658, 'kabaharkam': 1997, 'drs': 1111, 'sh': 4048, 'mh': 2876, 'menusa': 2860, 'ii': 1686, 'tahap': 4354, 'physicaldistancing': 3369, 'iyaa': 1820, 'pasir': 3227, 'aga': 48, 'wkwkwkwk': 4922, 'susul': 4328, 'pedagang': 3256, 'fast': 1247, 'respon': 3720, 'memasy': 2722, 'hina': 1591, 'segenap': 3947, 'balai': 356, 'ham': 1506, 'yasonna': 4958, 'bpbd': 629, 'pela': 3271, 'kriminal': 2345, 'lokal': 2544, 'transit': 4629, 'memoda': 2773, 'padu': 3150, 'adaptasi': 28, 'biasa': 532, 'bangga': 374, 'case': 736, 'nini': 3015, 'gan': 1327, 'tinjau': 4567, 'allahu': 124, 'akbar': 86, 'dakwah': 906, 'pejuangramadhanlawancorona': 3265, 'platform': 3411, 'lalai': 2425, 'akhirat': 89, 'penjuru': 3308, 'pelancong': 3276, 'sejuk': 3958, 'poldasulut': 3440, 'optimal': 3116, 'parkir': 3211, 'jauhi': 1890, 'hny': 1609, 'antum': 210, 'asn': 270, 'muda': 2930, 'huu': 1653, 'ili': 1701, 'paka': 3158, 'gx': 1469, 'formal': 1276, 'sering': 4027, 'alir': 119, 'sarana': 3891, 'wisma': 4910, 'skip': 4146, 'niscaya': 3019, 'government': 1433, 'toka': 4600, 'baharu': 342, 'tren': 4635, 'pejuang': 3264, 'ramadhanterakhirtanpakhilafah': 3613, 'calon': 720, 'pesawat': 3354, 'kaltim': 2043, 'kesan': 2179, 'senyum': 4008, 'all': 122, 'sambutramadhankita': 3862, 'miris': 2896, 'tengok': 4474, 'budak': 665, 'kpop': 2338, 'harus': 1536, 'jiwasraya': 1938, 'kate': 2103, 'es': 1213, 'roket': 3770, 'pribumi': 3498, 'pegawai': 3262, 'memood': 2780, 'beri': 497, 'ringan': 3748, 'petan': 3359, 'nelayan': 2996, 'infomalang': 1750, 'duka': 1127, 'idi': 1669, 'kluster': 2248, 'himpun': 1590, 'seri': 4024, 'kentong': 2164, 'wasap': 4867, 'goreng': 1428, 'abahrangger': 7, 'mui': 2934, 'relaksasi': 3691, 'aparatur': 219, 'sipil': 4118, 'musti': 2954, 'pr': 3477, 'blunder': 582, 'ne': 2989, 'mar': 2636, 'tum': 4677, 'bat': 414, 'distribusi': 1049, 'bansos': 387, 'pati': 3236, 'ch': 766, 'rias': 3735, 'mene': 2814, 'sido': 4076, 'cok': 824, 'songsong': 4190, 'tatakehidupanbaru': 4414, 'kontrol': 2309, 'fikir': 1256, 'posting': 3469, 'simpan': 4100, 'praktek': 3482, 'perspektif': 3348, 'penyelenggara': 3318, 'rakyatmerdeka': 3607, 'bacakoranrm': 327, 'stayhome': 4241, 'coronaupdate': 851, 'beritaterkin': 501, 'ridw': 3741, 'kmren': 2252, 'cewe': 763, 'memaap': 2688, 'kecuali': 2128, 'mundur': 2942, 'pelonggar': 3284, 'jaemcna': 1831, 'durasi': 1139, 'memaget': 2697, 'tlong': 4588, 'bukber': 670, 'tarhibramadhanonline': 4407, 'kamtibmas': 2056, 'domestik': 1073, 'cuti': 886, 'waspadaviruscorona': 4869, 'bubar': 663, 'model': 2910, 'patut': 3240, 'cakap': 715, 'sambang': 3857, 'makmur': 2603, 'kp': 2333, 'kel': 2134, 'kec': 2125, 'pari': 3209, 'kodim': 2262, 'berantas': 491, 'siplinprotokolnewnormal': 4121, 'azz': 318, 'zzahraa': 4999, 'cowok': 860, 'ganteng': 1336, 'open': 3106, 'order': 3124, 'tradisional': 4625, 'lapis': 2450, 'ng': 3001, 'edy': 1151, 'mememinimalisir': 2740, 'satpol': 3907, 'pp': 3473, 'wujud': 4943, 'tabah': 4347, 'khofifah': 2201, 'stiker': 4250, 'gantung': 1338, 'banya': 392, 'sblm': 3920, 'kanseulir': 2065, 'bapak': 395, 'rana': 3624, 'instruksi': 1766, 'beritasonora': 500, 'baris': 402, 'setara': 4038, 'dont': 1086, 'ek': 1163, 'boy': 627, 'liye': 2534, 'ketawa': 2185, 'hari': 1528, 'cmn': 817, 'gajelas': 1315, 'drakor': 1102, 'bosan': 622, 'can': 723, 'layananjakarta': 2466, 'bsa': 653, 'kanan': 2057, 'jelek': 1910, 'pengetahu': 3304, 'ira': 1784, 'jatimpemprov': 1886, 'khofifahip': 2202, 'emildardak': 1188, 'mental': 2851, 'pengemb': 3303, 'hormat': 1619, 'berkat': 505, 'jalur': 1852, 'prestasi': 3492, 'upload': 4770, 'arnab': 249, 'memore': 2781, 'dangerous': 920, 'tol': 4605, 'study': 4267, 'wfh': 4891, 'instagram': 1764, 'inap': 1722, 'sekitar': 3963, 'laga': 2409, 'juventus': 1992, 'men': 2797, 'samar': 3856, 'kapolsek': 2076, 'haikal': 1491, 'mayoritas': 2666, 'pki': 3402, 'ranah': 3625, 'ramah': 3614, 'sasar': 3899, 'azizshare': 317, 'nangpuasaterusberdakwah': 2975, 'komunikasi': 2284, 'kompak': 2274, 'banggasurabaya': 375, 'memitigas': 2768, 'memenujunormalbaru': 2758, 'taut': 4423, 'pisah': 3394, 'luar': 2559, 'reply': 3700, 'besaran': 512, 'bundar': 684, 'summarecon': 4302, 'mal': 2607, 'andre': 170, 'skr': 4148, 'rahmat': 3598, 'personal': 3345, 'kader': 2009, 'revisi': 3726, 'indonesiabutuhpemimp': 1739, 'sir': 4122, 'beras': 492, 'bekal': 462, 'kering': 2172, 'hrus': 1629, 'taucepattanpabatas': 4420, 'fb': 1248, 'ayam': 308, 'indonesiakembalipulih': 1741, 'jl': 1943, 'sunter': 4309, 'syedsaddiq': 4340, 'nk': 3020, 'sapa': 3885, 'pon': 3455, 'kapolda': 2073, 'skenario': 4143, 'oktober': 3085, 'gizi': 1412, 'kantin': 2066, 'skrng': 4152, 'pedoman': 3258, 'dgr': 1012, 'detail': 1002, 'hindu': 1593, 'bukittingg': 671, 'jemaah': 1911, 'kaum': 2109, 'candanjoon': 727, 'pink': 3391, 'black': 567, 'warna': 4862, 'mv': 2959, 'tos': 4617, 'koyok': 2332, 'seng': 3994, 'iki': 1694, 'lek': 2484, 'siti': 4131, 'pkb': 3400, 'longgar': 2551, 'break': 640, 'sejat': 3957, 'ormas': 3128, 'bungkus': 687, 'asa': 259, 'beraktifitas': 488, 'handsanitizer': 1515, 'desinfektan': 1001, 'memaana': 2687, 'pia': 3371, 'staysafe': 4242, 'stock': 4253, 'rejeki': 3681, 'rambut': 3619, 'nenek': 2997, 'sumut': 4305, 'idola': 1671, 'maya': 2664, 'rw': 3810, 'padat': 3149, 'kitateguhkitamenang': 2227, 'komunikasikita': 2285, 'dawa': 946, 'karno': 2087, 'darul': 930, 'islam': 1793, 'mk': 2900, 'soeharto': 4182, 'adlh': 38, 'sang': 3874, 'guling': 1454, 'stlh': 4252, 'juta': 1990, 'mbah': 2668, 'mennt': 2847, 'khidmat': 2199, 'ramal': 3616, 'agenda': 51, 'memenag': 2741, 'sop': 4195, 'tgk': 4507, 'ha': 1472, 'smpai': 4168, 'jumpa': 1980, 'twit': 4703, 'blt': 580, 'keliling': 2141, 'anjrit': 198, 'memake': 2704, 'kaos': 2069, 'polresta': 3446, 'banjarmas': 384, 'instansi': 1765, 'turut': 4695, 'omel': 3093, 'gajad': 1313, 'punten': 3559, 'rumahsaja': 3795, 'share': 4053, 'if': 1680, 'think': 4528, 'luhut': 2567, 'rangkap': 3631, 'mutasi': 2956, 'kpai': 2334, 'klaster': 2238, 'detik': 1004, 'rek': 3682, 'rangkai': 3630, 'nomer': 3028, 'cgk': 765, 'dewan': 1008, 'serikat': 4026, 'profesi': 3510, 'wal': 4847, 'inc': 1723, 'wifi': 4901, 'meja': 2682, 'dapur': 923, 'kaesangp': 2014, 'fitnah': 1263, 'tebar': 4438, 'infografis': 1749, 'realisasi': 3662, 'dd': 952, 'world': 4934, 'personil': 3347, 'dit': 1050, 'polripromoter': 3450, 'polriuntukindonesia': 3451, 'polricegahcorona': 3448, 'vhumas': 4808, 'cape': 732, 'ganjar': 1333, 'pranowo': 3485, 'mkn': 2901, 'serdang': 4022, 'memengemb': 2750, 'ny': 3048, 'puan': 3543, 'lobi': 2536, 'gedung': 1363, 'binmas': 551, 'ciateul': 784, 'aiptu': 66, 'regol': 3677, 'sempat': 3986, 'observasi': 3063, 'driver': 1107, 'memager': 2696, 'antibodi': 205, 'satbrimob': 3901, 'point': 3432, 'taun': 4422, 'gabakal': 1298, 'bet': 516, 'lokdon': 2546, 'pancing': 3180, 'serba': 4020, 'pending': 3301, 'ahok': 59, 'sokap': 4185, 'jaman': 1855, 'dtg': 1116, 'kandang': 2058, 'tgupp': 4510, 'konsisten': 2297, 'pasca': 3224, 'garis': 1347, 'nikah': 3011, 'bulanpuasacintasyariah': 676, 'tempodotco': 4464, 'damping': 914, 'tegas': 4444, 'karya': 2093, 'yogyakarta': 4970, 'bhabinkamtibmas': 523, 'simbolis': 4099, 'jebak': 1902, 'latih': 2456, 'otw': 3137, 'cimah': 795, 'wr': 4939, 'pppk': 3475, 'jembatan': 1912, 'aju': 79, 'regulasi': 3678, 'populer': 3460, 'jnecare': 1947, 'tepat': 4480, 'iring': 1788, 'sumsel': 4304, 'staysafestayhome': 4243, 'hiks': 1586, 'rancang': 3626, 'phsycal': 3367, 'kisah': 2221, 'makna': 2604, 'ap': 214, 'tukar': 4669, 'poin': 3431, 'pan': 3177, 'wan': 4852, 'hadifianwidjaja': 1481, 'rahmad': 3597, 'wudhu': 4941, 'remaja': 3694, 'kesi': 2181, 'tiktok': 4547, 'spesimen': 4211, 'realita': 3664, 'siar': 4071, 'diisi': 1030, 'kaji': 2024, 'kinerja': 2215, 'juliaribatubara': 1977, 'kero': 2174, 'bengkalis': 481, 'memenindaklanjut': 2752, 'ana': 156, 'tiga': 4544, 'pandu': 3186, 'demi': 975, 'uk': 4728, 'pro': 3502, 'hembus': 1563, 'mabuk': 2582, 'gerak': 1386, 'pecah': 3253, 'busuk': 696, 'kemudi': 2154, 'demo': 976, 'ge': 1361, 'medan': 2676, 'mang': 2628, 'karawang': 2083, 'trend': 4636, 'hadiah': 1480, 'trump': 4649, 'peristiwa': 3338, 'sudut': 4281, 'yas': 4957, 'google': 1426, 'rang': 3627, 'orng': 3129, 'idris': 1672, 'indonesiadiambangkebangkrut': 1740, 'tokoh': 4603, 'sbyudhoyono': 3923, 'aiek': 62, 'aka': 81, 'pontianak': 3458, 'organ': 3126, 'suami': 4269, 'tobat': 4598, 'sahabat': 3827, 'astaga': 273, 'sek': 3959, 'ijin': 1689, 'antar': 201, 'jln': 1944, 'kluar': 2246, 'tumpuk': 4681, 'timbul': 4554, 'batam': 419, 'musuh': 2955, 'memnrt': 2770, 'trenggalek': 4640, 'arifin': 248, 'eko': 1164, 'pen': 3298, 'bimbing': 545, 'perlu': 3341, 'chin': 775, 'buruh': 692, 'kejam': 2131, 'sasa': 3898, 'janga': 1864, 'dio': 1040, 'silaturahmi': 4095, 'univ': 4758, 'uts': 4794, 'asik': 266, 'unair': 4749, 'generasi': 1380, 'memilenial': 2766, 'tahunpolitik': 4357, 'teu': 4505, 'mengene': 2832, 'soale': 4176, 'wis': 4906, 'sterilisasi': 4245, 'eneng': 1198, 'gbs': 1360, 'memuannas': 2788, 'reflyhz': 3675, 'gusdur': 1464, 'transisi': 4628, 'konsep': 2295, 'happyramadh': 1523, 'kembali': 2151, 'diskusi': 1048, 'pasu': 3232, 'embang': 1185, 'logika': 2541, 'ilmiah': 1702, 'klinis': 2244, 'halu': 1504, 'desain': 998, 'game': 1325, 'situs': 4134, 'tmcpoldametro': 4590, 'puspen': 3567, 'cikarang': 789, 'tali': 4371, 'selagi': 3968, 'sri': 4219, 'pelabuh': 3272, 'hulu': 1643, 'em': 1180, 'nhi': 3005, 'bisa': 559, 'sndir': 4172, 'touch': 4619, 'ws': 4940, 'arek': 244, 'halang': 1498, 'zaman': 4986, 'orba': 3123, 'pelajar': 3273, 'kta': 2360, 'menadiem': 2799, 'insecure': 1762, 'obrol': 3062, 'emak': 1182, 'tuan': 4658, 'gabole': 1301, 'caci': 710, 'sungai': 4307, 'kunyit': 2384, 'wabak': 4830, 'sya': 4336, 'tuang': 4659, 'uud': 4798, 'psi': 3534, 'workfromhome': 4933, 'infop': 1751, 'waras': 4859, 'salat': 3846, 'janggal': 1867, 'opo': 3112, 'tunjang': 4687, 'yen': 4966, 'aku': 98, 'lambat': 2428, 'tpi': 4622, 'pulkam': 3555, 'plg': 3414, 'elit': 1174, 'segi': 3948, 'mam': 2614, 'sebul': 3939, 'menext': 2825, 'hamlud': 1511, 'bakti': 354, 'cabang': 707, 'gabut': 1304, 'memohmahfudmd': 2775, 'kurung': 2389, 'beban': 450, 'miskin': 2898, 'wagub': 4836, 'ex': 1224, 'utuh': 4795, 'hallo': 1501, 'kurir': 2387, 'qorygore': 3577, 'elite': 1175, 'lahh': 2413, 'bacotsantuy': 330, 'skill': 4145, 'mampu': 2619, 'rvice': 3809, 'bonus': 616, 'miliar': 2880, 'gwe': 1468, 'paru': 3219, 'radang': 3587, 'susipudjiastut': 4324, 'susi': 4323, 'low': 2556, 'memahfud': 2699, 'apel': 224, 'budi': 667, 'telat': 4451, 'komplek': 2282, 'blom': 578, 'bandel': 368, 'minoritas': 2892, 'keluyur': 2148, 'yaudah': 4959, 'peringkat': 3335, 'suap': 4270, 'lampir': 2430, 'layang': 2467, 'kang': 2060, 'sidak': 4073, 'bangkal': 377, 'penyekat': 3317, 'samacegahcorona': 3853, 'lese': 2499, 'sikut': 4091, 'dag': 896, 'ied': 1678, 'mengaruh': 2830, 'afrkml': 45, 'ttap': 4652, 'klau': 2240, 'iku': 1696, 'terus': 4497, 'koordinator': 2313, 'ansos': 200, 'rgarambe': 3730, 'phbs': 3364, 'shift': 4056, 'takda': 4366, 'ambik': 137, 'hafal': 1484, 'menah': 2803, 'tapa': 4403, 'ruf': 3786, 'memsih': 2786, 'awam': 298, 'cenderung': 750, 'realistis': 3663, 'jasa': 1882, 'utuhwibowo': 4796, 'transjakarta': 4630, 'spk': 4212, 'sahaja': 3830, 'ramadan': 3609, 'nahi': 2966, 'spread': 4213, 'offline': 3071, 'scr': 3926, 'portal': 3462, 'prioritas': 3500, 'nnt': 3024, 'rajalela': 3602, 'imunkuatcovidminggat': 1719, 'beb': 448, 'memaasyaal': 2689, 'shub': 4062, 'pos': 3463, 'memasyaal': 2723, 'love': 2555, 'kapal': 2070, 'rja': 3760, 'soal': 4175, 'penyedia': 3316, 'manajemen': 2623, 'nct': 2985, 'skali': 4140, 'sahabattangguh': 3829, 'mandu': 2626, 'onok': 3105, 'timbal': 4552, 'apaa': 216, 'cuan': 869, 'pinang': 3385, 'dulu': 1132, 'sederhana': 3941, 'koplak': 2316, 'hepatitis': 1566, 'bcs': 443, 'aib': 61, 'sembunyi': 3982, 'rugi': 3787, 'tak': 4362, 'muak': 2929, 'saka': 3837, 'kompastv': 2277, 'tangsel': 4395, 'yu': 4980, 'adit': 36, 'hendrarprihad': 1564, 'ego': 1159, 'paha': 3153, 'pke': 3401, 'ciledug': 792, 'sampey': 3869, 'gaa': 1296, 'dicek': 1021, 'gun': 1455, 'halo': 1502, 'masalah': 2647, 'kapolres': 2075, 'tulung': 4674, 'pede': 3257, 'nalar': 2970, 'jogjakarta': 1954, 'trendingtopic': 4639, 'trendingnow': 4638, 'bhai': 525, 'cemas': 748, 'york': 4972, 'limpah': 2519, 'pn': 3425, 'jawat': 1895, 'abah': 6, 'takbir': 4365, 'phisical': 3365, 'raymond': 3653, 'otg': 3133, 'thinking': 4529, 'drama': 1103, 'jaki': 1844, 'cewek': 764, 'basis': 411, 'memohammad': 2774, 'hatta': 1543, 'chek': 772, 'poldakaltim': 3439, 'visihumaspolr': 4821, 'olok': 3089, 'kita': 2224, 'pria': 3496, 'amuk': 154, 'kumpar': 2378, 'kieu': 2210, 'curity': 881, 'hihi': 1582, 'thd': 4518, 'thewhitehatid': 4526, 'sambutberkahramadh': 3861, 'kelak': 2135, 'kedah': 2129, 'ruwet': 3808, 'perang': 3325, 'memuhammadiyah': 2789, 'ambek': 136, 'soba': 4178, 'sak': 3836, 'ta': 4343, 'buta': 699, 'nek': 2994, 'baswed': 413, 'sapu': 3887, 'persen': 3343, 'got': 1430, 'antre': 207, 'soekarno': 4183, 'tambang': 4374, 'rela': 3690, 'tema': 4457, 'sea': 3931, 'shadi': 4049, 'cebong': 742, 'menewnormallife': 2822, 'bis': 558, 'gerbang': 1388, 'kuning': 2382, 'sihat': 4082, 'digital': 1028, 'haji': 1493, 'let': 2500, 'berla': 506, 'ndo': 2987, 'sidoarjo': 4077, 'yaaaa': 4948, 'asrama': 271, 'sabah': 3817, 'house': 1624, 'suru': 4319, 'tom': 4609, 'sepak': 4009, 'ikan': 1690, 'jr': 1964, 'oknum': 3084, 'khan': 2195, 'memij': 2765, 'nduro': 2988, 'taik': 4359, 'samsat': 3872, 'cilok': 794, 'badai': 332, 'bpjs': 631, 'penyebab': 3314, 'email': 1181, 'mamah': 2616, 'hbs': 1550, 'refund': 3676, 'yh': 4968, 'bangkrut': 379, 'bungkam': 686, 'momentum': 2915, 'steve': 4248, 'alfamart': 113, 'pala': 3168, 'berat': 493, 'notabene': 3035, 'assalamualaikum': 272, 'rekening': 3685, 'zon': 4993, 'koreksi': 2322, 'funny': 1292, 'fase': 1245, 'kriminalitas': 2346, 'shubdk': 4063, 'download': 1092, 'form': 1275, 'dedah': 960, 'gatakut': 1350, 'tundamudik': 4685, 'nkeslampung': 3023, 'mrs': 2923, 'jkwresmikangenosida': 1942, 'cigereleng': 787, 'kembar': 2153, 'holiday': 1616, 'staf': 4224, 'jambi': 1856, 'lawancorona': 2460, 'mementaat': 2755, 'balaraja': 358, 'belakang': 465, 'kaca': 2004, 'jga': 1929, 'simpul': 4103, 'jagajarakam': 1834, 'koramil': 2318, 'sinergi': 4106, 'release': 3693, 'tuntas': 4690, 'sate': 3902, 'kelapa': 2137, 'bincang': 549, 'tenanguntukmenang': 4469, 'thrharbolnas': 4534, 'konon': 2292, 'untk': 4762, 'ecek': 1145, 'mitra': 2899, 'rupiah': 3798, 'tera': 4482, 'ur': 4771, 'puter': 3570, 'rabb': 3582, 'hamba': 1507, 'memukenahhh': 2790, 'bngt': 586, 'adl': 37, 'sars': 3896, 'cov': 857, 'japek': 1876, 'dawu': 947, 'angkut': 185, 'achmad': 21, 'yurianto': 4983, 'imajinasi': 1706, 'tter': 4654, 'ahmad': 58, 'senior': 3999, 'menegative': 2815, 'material': 2658, 'jelata': 1909, 'shopee': 4059, 'freeong': 1283, 'packing': 3146, 'pesimis': 3356, 'skg': 4144, 'memembludak': 2736, 'emil': 1187, 'memonitoring': 2779, 'amanah': 133, 'bima': 544, 'tani': 4396, 'syahrul': 4337, 'post': 3468, 'pahit': 3155, 'war': 4858, 'kala': 2031, 'target': 4406, 'pidato': 3374, 'minim': 2890, 'darisuara': 929, 'buton': 700, 'kriteria': 2348, 'pales': 3171, 'bad': 331, 'idup': 1677, 'pl': 3408, 'bdg': 444, 'supir': 4313, 'prabumulih': 3480, 'visi': 4820, 'rsup': 3781, 'hamka': 1510, 'sutra': 4330, 'ricky': 3740, 'celah': 747, 'pekok': 3270, 'its': 1815, 'ipdn': 1780, 'pohon': 3430, 'laju': 2418, 'bangkit': 378, 'risau': 3751, 'jurnalis': 1986, 'jatenglawancorona': 1884, 'tbtb': 4431, 'memanchester': 2709, 'pkn': 3404, 'innalillah': 1761, 'adik': 34, 'anying': 213, 'punggal': 3558, 'harun': 1535, 'going': 1422, 'get': 1397, 'fahira': 1234, 'japan': 1875, 'bangett': 373, 'programfolback': 3514, 'begal': 458, 'dengerinelshintadirumahaja': 983, 'poldajateng': 3438, 'skotik': 4147, 'kritis': 2351, 'tegal': 4442, 'menewnormalindonesia': 2821, 'angkot': 183, 'ntr': 3042, 'samping': 3870, 'maling': 2612, 'willsarana': 4905, 'debat': 957, 'cases': 737, 'jeruk': 1926, 'hutan': 1651, 'kot': 2330, 'least': 2475, 'away': 303, 'tangguh': 4387, 'humaspoldajatim': 1648, 'polrihumanis': 3449, 'yaam': 4951, 'rsud': 3780, 'awur': 304, 'self': 3974, 'ikhtiar': 1693, 'sragen': 4218, 'gerombol': 1393, 'doank': 1067, 'iso': 1795, 'reiza': 3680, 'patters': 3238, 'memarlina': 2715, 'pm': 3422, 'wang': 4853, 'norma': 3032, 'jodoh': 1950, 'sipilin': 4119, 'care': 734, 'anj': 190, 'areajulid': 243, 'kompleks': 2283, 'pinjam': 3390, 'jing': 1934, 'plt': 3420, 'harimau': 1529, 'reisa': 3679, 'simbol': 4098, 'ludah': 2565, 'kades': 2010, 'mementr': 2757, 'airlangga': 68, 'orangkoslet': 3122, 'brapa': 635, 'rikal': 3743, 'bendera': 479, 'pelintir': 3283, 'depresi': 991, 'undur': 4752, 'tan': 4377, 'misi': 2897, 'bul': 674, 'kpu': 2339, 'tewas': 4506, 'karma': 2084, 'dwiyanadkm': 1142, 'lonja': 2552, 'rampung': 3623, 'dominggus': 1075, 'laik': 2417, 'memreka': 2784, 'lega': 2482, 'bappeda': 396, 'chungha': 781, 'mie': 2878, 'konpers': 2293, 'doni': 1083, 'dalam': 908, 'kenceng': 2158, 'tempoh': 4465, 'kawal': 2110, 'ismail': 1794, 'sabri': 3820, 'yaakob': 4949, 'pulih': 3554, 'mafia': 2586, 'curva': 883, 'tega': 4440, 'pahlawan': 3156, 'pelanggar': 3277, 'pondok': 3456, 'raga': 3592, 'everyone': 1222, 'gatot': 1353, 'tataekooo': 4413, 'napas': 2976, 'kkmputrajaya': 2232, 'lur': 2576, 'memacem': 2690, 'setan': 4037, 'have': 1544, 'gov': 1432, 'health': 1554, 'bai': 347, 'gemas': 1375, 'marang': 2640, 'tamu': 4376, 'takdir': 4368, 'sja': 4137, 'kiri': 2219, 'mujarab': 2935, 'gais': 1312, 'saring': 3895, 'cintarasulcintaramadh': 800, 'tari': 4408, 'podo': 3429, 'memgkn': 2762, 'capar': 731, 'rayu': 3654, 'mbok': 2672, 'statemen': 4233, 'smg': 4164, 'buc': 664, 'ronta': 3774, 'makhluk': 2599, 'fadi': 1229, 'arogan': 250, 'indonesiaabnormal': 1738, 'hadi': 1479, 'rwanda': 3811, 'death': 956, 'nol': 3027, 'kalimant': 2039, 'sab': 3815, 'sulawes': 4294, 'kdg': 2120, 'pening': 3306, 'sbb': 3918, 'tracking': 4624, 'reporter': 3702, 'pura': 3560, 'pelan': 3275, 'donald': 1079, 'sahur': 3832, 'sara': 3889, 'menewnormalpulihkanekonom': 2823, 'memaskeruntuksemua': 2719, 'ane': 173, 'wqwq': 4938, 'jo': 1948, 'effort': 1158, 'sorot': 4199, 'mbang': 2671, 'lazim': 2469, 'garut': 1348, 'memajalengka': 2700, 'sukabum': 4288, 'harta': 1532, 'dirs': 1042, 'staff': 4225, 'koperasi': 2314, 'ukm': 4730, 'panti': 3201, 'tanjung': 4397, 'tnipedul': 4594, 'pantang': 3198, 'din': 1036, 'ban': 363, 'dagr': 900, 'pres': 3488, 'konser': 2296, 'degan': 965, 'ahh': 56, 'gawai': 1355, 'gerai': 1385, 'dato': 939, 'memade': 2692, 'menakes': 2805, 'segara': 3946, 'partaisocmed': 3215, 'team': 4436, 'raih': 3599, 'subuh': 4275, 'memonggo': 2778, 'samakitabisa': 3854, 'lekas': 2485, 'nipis': 3016, 'high': 1580, 'akhlak': 90, 'jt': 1966, 'st': 4221, 'oi': 3077, 'rismawidiono': 3756, 'mensosr': 2849, 'lari': 2454, 'turu': 4693, 'proaktifm': 3503, 'trkait': 4646, 'ntadh': 3040, 'leo': 2496, 'katika': 2106, 'wagonjwa': 4835, 'memagufulijp': 2698, 'ring': 3747, 'besafe': 510, 'imbas': 1709, 'memask': 2717, 'ayat': 309, 'ari': 246, 'xi': 4945, 'rha': 3731, 'ter': 4481, 'ust': 4784, 'greget': 1440, 'prov': 3525, 'utas': 4792, 'selenggara': 3972, 'penyalur': 3312, 'putri': 3575, 'su': 4268, 'md': 2674, 'teror': 4493, 'adhiemassard': 33, 'memagelang': 2695, 'bgm': 519, 'idadi': 1662, 'memaambukiz': 2686, 'februari': 1249, 'coronabisadicegah': 845, 'polsektombulucegahcorona': 3453, 'ldr': 2473, 'infografik': 1748, 'rl': 3764, 'tauan': 4418, 'cekel': 746, 'letak': 2501, 'kenek': 2163, 'jajal': 1839, 'msk': 2926, 'gelontor': 1372, 'bunga': 685, 'skema': 4142, 'kartoharjo': 2090, 'ganjil': 1335, 'memicheladamnp': 2763, 'canang': 724, 'mung': 2943, 'mengono': 2835, 'piye': 3397, 'sepenuh': 4014, 'asuransi': 277, 'niaga': 3006, 'pub': 3546, 'sllu': 4157, 'dl': 1056, 'jalin': 1851, 'landa': 2434, 'bnyak': 591, 'gabener': 1299, 'pempus': 3296, 'cilacap': 791, 'sekutu': 3966, 'aw': 295, 'aset': 262, 'kain': 2022, 'kursi': 2388, 'antuk': 209, 'langit': 2438, 'liput': 2527, 'pelihara': 3281, 'gelap': 1368, 'dengki': 984, 'agung': 52, 'sempurna': 3989, 'goda': 1421, 'blh': 570, 'tirtoid': 4575, 'ekspor': 1169, 'ttd': 4653, 'pri': 3495, 'dima': 1035, 'bath': 423, 'ras': 3639, 'zuhairimisraw': 4997, 'rakyt': 3608, 'dasco': 933, 'mpr': 2920, 'memegawat': 2731, 'logo': 2542, 'nabi': 2962, 'jejak': 1905, 'muhammad': 2933, 'italy': 1810, 'brazil': 638, 'india': 1729, 'australia': 292, 'vietnam': 4812, 'cnn': 818, 'wani': 4854, 'jogo': 1955, 'singkat': 4113, 'bohonganbaru': 603, 'rak': 3605, 'karang': 2079, 'tawa': 4424, 'purbaleuny': 3561, 'memarikarahm': 2714, 'menya': 2862, 'plan': 3409, 'pam': 3174, 'simpang': 4101, 'kadal': 2007, 'konstruksi': 2299, 'cakep': 717, 'pata': 3234, 'bhi': 528, 'sakti': 3841, 'aye': 310, 'mara': 2637, 'suku': 4292, 'batak': 416, 'absolutia': 15, 'kirekswasta': 2218, 'memention': 2756, 'bil': 541, 'last': 2455, 'rusl': 3802, 'sam': 3851, 'staffgaksus': 4226, 'kangngabe': 2062, 'jls': 1945, 'kpn': 2337, 'hangat': 1517, 'dingin': 1039, 'tenggoro': 4473, 'wahhh': 4840, 'umbar': 4739, 'ajang': 75, 'pertanda': 3349, 'kaa': 1994, 'jerm': 1925, 'maskapai': 2650, 'niru': 3017, 'insya': 1767, 'click': 811, 'lifestyle': 2515, 'berte': 509, 'tikus': 4548, 'bocah': 596, 'puskesmas': 3566, 'memantapp': 2712, 'wata': 4871, 'cutar': 885, 'kadi': 2011, 'bri': 645, 'hao': 1520, 'kue': 2372, 'kmaren': 2251, 'buru': 691, 'halaman': 1497, 'sprt': 4214, 'memema': 2733, 'hass': 1540, 'kriti': 2349, 'menugarislucu': 2857, 'wait': 4841, 'hdp': 1551, 'bnr': 590, 'transfer': 4627, 'dialogis': 1017, 'bni': 588, 'que': 3579, 'jawafess': 1894, 'pelosok': 3286, 'off': 3069, 'keliru': 2142, 'implementasi': 1714, 'ceroboh': 761, 'atap': 280, 'lahan': 2412, 'date': 937, 'delivery': 972, 'rujuk': 3790, 'padang': 3148, 'jaktim': 1848, 'bengkulu': 483, 'scam': 3924, 'memotogp': 2782, 'tbc': 4429, 'mematanajwa': 2724, 'tunju': 4688, 'bole': 608, 'broo': 650, 'ai': 60, 'jenk': 1920, 'sita': 4130, 'slalu': 4154, 'jugak': 1974, 'tagih': 4351, 'penasaran': 3299, 'poko': 3433, 'klw': 2249, 'ali': 116, 'memutual': 2795, 'demokrat': 978, 'wahana': 4839, 'stres': 4263, 'dakwahbabel': 907, 'memadac': 2691, 'memanokwar': 2711, 'papuasaam': 3206, 'siku': 4090, 'rekreasi': 3687, 'indahnyatolerans': 1727, 'cermin': 759, 'provokasi': 3527, 'memakarim': 2701, 'siapmenujunewnormal': 4070, 'siur': 4135, 'indar': 1728, 'selubung': 3976, 'kitajagakita': 2225, 'pelari': 3278, 'cikgu': 790, 'kspgoid': 2358, 'lengser': 2495, 'menaek': 2801, 'didep': 1022, 'hikmah': 1585, 'gresik': 1441, 'argumen': 245, 'syg': 4341, 'har': 1525, 'setiawan': 4041, 'abi': 12, 'christwamea': 779, 'gaenak': 1308, 'jaksa': 1846, 'dude': 1119, 'dalih': 910, 'atuh': 288, 'polis': 3441, 'tebas': 4439, 'family': 1243, 'sorry': 4201, 'daging': 899, 'dila': 1033, 'objek': 3061, 'import': 1715, 'tokana': 4601, 'hata': 1541, 'definisi': 962, 'gelisah': 1370, 'nan': 2973, 'koh': 2263, 'kendala': 2160, 'laman': 2426, 'ehh': 1162, 'suhanaipb': 4283, 'memako': 2705, 'sun': 4306, 'mutu': 2958, 'dngn': 1063, 'kejar': 2132, 'ite': 1812, 'pemkotmalang': 3293, 'kayu': 2116, 'tnipolridisiplinkanwarga': 4595, 'mim': 2884, 'genting': 1383, 'friends': 1285, 'very': 4807, 'istighosah': 1801, 'face': 1228, 'wad': 4832, 'lengang': 2493, 'abdul': 10, 'rmol': 3767, 'garagara': 1344, 'radikalisme': 3589, 'curiga': 880, 'lagipula': 2410, 'lakin': 2421, 'memoja': 2776, 'pisang': 3396, 'rangorang': 3632, 'rute': 3805, 'botol': 625, 'sio': 4117, 'hobi': 1614, 'cmiiw': 816, 'perempuan': 3328, 'kuala': 2363, 'meminangoposis': 2767, 'rektor': 3689, 'tracing': 4623, 'alun': 127, 'bgmn': 520, 'sifat': 4078, 'mewah': 2875, 'tkt': 4584, 'reseller': 3713, 'rate': 3646, 'rr': 3778, 'said': 3833, 'tokopedia': 4604, 'drop': 1108, 'kontrak': 2307, 'unsur': 4761, 'lol': 2547, 'blak': 568, 'bla': 566, 'kitamestimenang': 2226, 'mememb': 2734, 'janganmudik': 1865, 'seni': 3997, 'respect': 3719, 'hayo': 1546, 'gay': 1358, 'nova': 3036, 'iriansyah': 1787, 'jne': 1946, 'sultan': 4297, 'akang': 84, 'sikit': 4087, 'tirta': 4574, 'hudhi': 1634, 'mpet': 2919, 'tembak': 4460, 'trims': 4645, 'presidenkop': 3490, 'kalu': 2044, 'wake': 4845, 'dadak': 892, 'peninda': 3305, 'salon': 3848, 'rabbal': 3583, 'buanyak': 661, 'declare': 959, 'sukoharjo': 4290, 'protokoler': 3524, 'banyuwang': 394, 'opsi': 3115, 'memenunju': 2759, 'jakut': 1849, 'tundabalikkejakarta': 4684, 'kartin': 2089, 'bantulbisa': 391, 'menga': 2827, 'tw': 4701, 'stabil': 4222, 'skarang': 4141, 'tanya': 4400, 'busway': 697, 'meni': 2837, 'political': 3443, 'there': 4525, 'always': 128, 'science': 3925, 'had': 1476, 'successful': 4277, 'after': 46, 'his': 1597, 'wife': 4900, 'met': 2871, 'lost': 2554, 'economic': 1146, 'success': 4276, 'want': 4856, 'hit': 1598, 'request': 3710, 'teach': 4435, 'about': 14, 'problem': 3504, 'memoney': 2777, 'memulyan': 2792, 'lawat': 2463, 'ket': 2183, 'hazard': 1548, 'tangga': 4384, 'ppu': 3476, 'swalayan': 4332, 'jun': 1981, 'setia': 4040, 'kos': 2327, 'jorok': 1961, 'emas': 1184, 'ketimbang': 2187, 'pempekgorenk': 3294, 'memenanglawancorona': 2743, 'menadine': 2800, 'episode': 1208, 'penyembuh': 3319, 'ti': 4537, 'singgah': 4111, 'garda': 1346, 'sonnymumbun': 4191, 'tanggungjawab': 4390, 'stetmen': 4246, 'omah': 3091, 'tz': 4707, 'takabur': 4363, 'cangkem': 728, 'ketok': 2188, 'ver': 4804, 'view': 4813, 'cuek': 873, 'kebun': 2123, 'fullmoonfolks': 1290, 'anandabadudu': 161, 'bbc': 437, 'pasuru': 3233, 'bk': 564, 'why': 4896, 'fake': 1239, 'germas': 1392, 'jangka': 1868, 'silahturahm': 4094, 'kode': 2261, 'karuan': 2092, 'taati': 4346, 'coz': 861, 'fakultas': 1242, 'guyon': 1466, 'arak': 239, 'nyamuk': 3052, 'wewenang': 4890, 'singgung': 4112, 'pbb': 3242, 'mememes': 2739, 'hadeh': 1478, 'apko': 228, 'bhakt': 526, 'ameuwicano': 143, 'palembang': 3170, 'kalem': 2036, 'praktikum': 3483, 'app': 232, 'mini': 2889, 'jogging': 1952, 'tbh': 4430, 'ramadhankitaistimewa': 3612, 'boong': 617, 'hua': 1632, 'kaesang': 2013, 'rusuh': 3804, 'log': 2540, 'faktor': 1241, 'mengabuburit': 2828, 'ombudsm': 3092, 'podcast': 3428, 'res': 3711, 'botak': 624, 'yradianto': 4978, 'bea': 447, 'apka': 226, 'concern': 832, 'jog': 1951, 'tawakkal': 4425, 'rockygerung': 3769, 'pledis': 3413, 'memeet': 2729, 'copy': 841, 'usd': 4781, 'tipes': 4569, 'rinci': 3745, 'gorontalo': 1429, 'individu': 1731, 'beritajakarta': 499, 'satlantas': 3905, 'menbumn': 2810, 'museum': 2947, 'psbbjakarta': 3532, 'gunroml': 1459, 'wahab': 4837, 'widyarenee': 4899, 'massa': 2652, 'hutang': 1652, 'investor': 1777, 'unggul': 4753, 'kakau': 2028, 'ebersut': 1144, 'mengemeng': 2831, 'segar': 3945, 'uni': 4755, 'far': 1244, 'mlm': 2903, 'satriohendr': 3908, 'statmen': 4236, 'kaprah': 2077, 'layar': 2468, 'imigrasi': 1711, 'pakar': 3161, 'binsar': 552, 'tekung': 4450, 'nyanyi': 3053, 'elshintaedisisiang': 1178, 'andi': 167, 'mememefess': 2738, 'basah': 408, 'dewe': 1009, 'side': 4075, 'demokrasi': 977, 'lebar': 2476, 'umno': 4742, 'imran': 1716, 'common': 829, 'teater': 4437, 'dangdut': 919, 'gencar': 1379, 'wk': 4914, 'alloh': 125, 'pendek': 3300, 'arif': 247, 'jaem': 1830, 'apaka': 217, 'narasumber': 2979, 'chill': 774, 'bangka': 376, 'maut': 2661, 'ronnie': 3773, 'rusli': 3803, 'bong': 614, 'ame': 140, 'ladang': 2406, 'cukai': 876, 'menkopmk': 2845, 'menkeur': 2844, 'well': 4885, 'pakek': 3164, 'menkr': 2846, 'memenko': 2754, 'kampanye': 2052, 'pdiperjuang': 3249, 'lambung': 2429, 'saing': 3835, 'memay': 2725, 'aan': 2, 'samper': 3868, 'tar': 4404, 'penyemprot': 3320, 'berkas': 504, 'dlu': 1059, 'laen': 2408, 'kampret': 2053, 'pdhal': 3245, 'psl': 3537, 'shalihaho': 4052, 'elak': 1171, 'kono': 2291, 'anjarisme': 191, 'survei': 4321, 'exist': 1225, 'cabe': 708, 'tniad': 4593, 'bajing': 349, 'biru': 557, 'chaos': 769, 'wisuda': 4911, 'kanit': 2063, 'ipda': 1779, 'ccicpolr': 741, 'panjait': 3195, 'zoelfick': 4992, 'galau': 1319, 'penyerah': 3321, 'bst': 655, 'ds': 1113, 'tentra': 4477, 'dang': 918, 'idrisashomad': 1673, 'surga': 4318, 'memenfess': 2746, 'dear': 955, 'memod': 2772, 'bonek': 612, 'kutuk': 2392, 'rkyt': 3763, 'tas': 4411, 'tjen': 4580, 'should': 4060, 'barito': 403, 'blog': 575, 'umkm': 4740, 'takde': 4367, 'tipu': 4572, 'spert': 4209, 'pst': 3539, 'strategis': 4261, 'ukiwa': 4729, 'suit': 4285, 'bravo': 637, 'ping': 3387, 'kola': 2265, 'hayu': 1547, 'jamu': 1860, 'kalteng': 2042, 'tetiba': 4504, 'comeback': 828, 'cakiminow': 718, 'daulat': 943, 'dilema': 1034, 'boros': 620, 'ij': 1688, 'eksekusi': 1167, 'lianidris': 2509, 'lebur': 2480, 'seliwer': 3975, 'nik': 3010, 'memaneh': 2710, 'sawah': 3913, 'koran': 2319, 'pud': 3549, 'coronaalert': 844, 'langgan': 2436, 'kontroversi': 2310, 'rawan': 3650, 'lansir': 2444, 'blogdokter': 576, 'parlimen': 3212, 'ransik': 3633, 'rjasama': 3761, 'modar': 2909, 'informal': 1753, 'apbn': 221, 'memengatasnama': 2749, 'lai': 2416, 'kalimalang': 2038, 'sampai': 3864, 'bbrpa': 440, 'dermaga': 996, 'sensasi': 4001, 'rd': 3657, 'collab': 825, 'formula': 1277, 'arrestantiindiaarnab': 251, 'bill': 543, 'gates': 1352, 'effect': 1157, 'zul': 4998, 'walo': 4851, 'ape': 223, 'hang': 1516, 'pagar': 3151, 'razi': 3655, 'reshuffle': 3716, 'baada': 321, 'refleksi': 3674, 'paramedis': 3208, 'arch': 240, 'nis': 3018, 'ratu': 3647, 'menich': 2838, 'papah': 3203, 'pacu': 3147, 'cakasana': 716, 'taubat': 4419, 'memassage': 2721, 'crm': 867, 'agam': 49, 'eeh': 1154, 'ud': 4713, 'screening': 3927, 'memardanialisera': 2713, 'pln': 3416, 'stigma': 4249, 'empati': 1193, 'serie': 4025, 'sampel': 3867, 'keburu': 2124, 'kim': 2214, 'fistula': 1261, 'privasi': 3501, 'hih': 1581, 'sukur': 4293, 'dedi': 961, 'memeng': 2747, 'neraka': 2999, 'partisipasi': 3217, 'habib': 1473, 'dam': 911, 'tea': 4434, 'urg': 4773, 'fobia': 1270, 'profesional': 3511, 'speechless': 4208, 'melulu': 2685, 'kia': 2205, 'yoo': 4971, 'premis': 3487, 'cantik': 729, 'depa': 988, 'pkpp': 3406, 'upah': 4767, 'memwenye': 2796, 'memass': 2720, 'fyi': 1295, 'akhir': 88, 'hmmmm': 1608, 'kontol': 2305, 'iwan': 1817, 'strong': 4265, 'amen': 141, 'andihiyat': 169, 'rahi': 3596, 'kesal': 2178, 'dzawinur': 1143, 'cucu': 871, 'sei': 3953, 'juanda': 1969, 'donor': 1085, 'okay': 3081, 'suket': 4289, 'ledek': 2481, 'peak': 3252, 'merak': 2865, 'class': 809, 'lirik': 2528, 'geng': 1381, 'dosen': 1089, 'kakk': 2030, 'deras': 993, 'close': 813, 'daa': 890, 'nafkah': 2964, 'sesat': 4034, 'sija': 4084, 'tegang': 4443, 'adakan': 27, 'tenggelam': 4472, 'ina': 1721, 'ikat': 1691, 'klb': 2241, 'show': 4061, 'finansial': 1258, 'akar': 85, 'eropa': 1212, 'spa': 4206, 'gali': 1320, 'sababu': 3816, 'mentmclantaspolr': 2854, 'bahar': 341, 'intervensi': 1773, 'yeah': 4962, 'tiongkok': 4568, 'enggalpmt': 1201, 'kbud': 2118, 'beer': 456, 'rona': 3772, 'mangap': 2629, 'rip': 3750, 'akutu': 102, 'leh': 2483, 'sujud': 4286, 'coronagy': 847, 'hhhh': 1574, 'singkir': 4114, 'psikologi': 3536, 'testing': 4500, 'shareaholic': 4054, 'ifttt': 1681, 'zamane': 4987, 'ip': 1778, 'belitung': 471, 'ly': 2579, 'dandhy': 917, 'laksono': 2423, 'ihsg': 1685, 'huft': 1635, 'motivasi': 2916, 'baya': 432, 'terte': 4495, 'statistik': 4235, 'uncmnfs': 4750, 'jpm': 1963, 'riously': 3749, 'dominan': 1074, 'habibthink': 1474, 'teko': 4449, 'ujug': 4726, 'satpam': 3906, 'vhumaspolr': 4809, 'indomie': 1734, 'mempan': 2783, 'tetes': 4503, 'waris': 4861, 'il': 1699, 'flue': 1268, 'resepsi': 3714, 'abud': 17, 'kompensasi': 2278, 'bit': 563, 'diaku': 1016, 'double': 1090, 'ummat': 4741, 'ustad': 4785, 'deal': 954, 'memakassar': 2703, 'kulon': 2376, 'proposal': 3518, 'brebes': 643, 'jeblok': 1903, 'menajwashihab': 2804, 'tha': 4512, 'otomatis': 3135, 'kualat': 2364, 'halau': 1499, 'memetu': 2761, 'mekanisme': 2683, 'boneka': 613, 'alhamdul': 114, 'abadi': 5, 'mil': 2879, 'iblis': 1657, 'tipis': 4570, 'kcual': 2119, 'memusniumar': 2794, 'brart': 636, 'eksperimen': 1168, 'langka': 2439, 'menginget': 2834, 'txtdrpemerin': 4706, 'menotif': 2848, 'denge': 982, 'singapur': 4109, 'khatam': 2197, 'bli': 571, 'resesi': 3715, 'copas': 839, 'menetijen': 2818, 'jawabarat': 1893, 'laki': 2420, 'npa': 3039, 'cuaca': 868, 'istighfar': 1800, 'erat': 1210, 'lus': 2578, 'oegy': 3067, 'kbenaranhakik': 2117, 'fo': 1269, 'memas': 2716, 'halodoc': 1503, 'kamitidaktakutviruscorona': 2051, 'mantri': 2633, 'taufiqrus': 4421, 'gempar': 1377, 'salahsambungya': 3844, 'clap': 808, 'diban': 1020, 'menaoliviea': 2808, 'disa': 1043, 'joshua': 1962, 'penyampai': 3313, 'setok': 4042, 'sgy': 4047, 'psti': 3540, 'jek': 1906, 'junpijatlulur': 1984, 'openbodepok': 3107, 'bisyardepok': 562, 'memnjad': 2769, 'bolak': 607, 'tongkinong': 4612, 'idap': 1663, 'varian': 4802, 'hawa': 1545, 'hidayat': 1577, 'memalamminggu': 2706, 'rasan': 3641, 'khalas': 2194, 'dai': 904, 'muslimin': 2952, 'gagap': 1311, 'sudah': 4279, 'paut': 3241, 'orange': 3121, 'laaa': 2404, 'baad': 320, 'sndri': 4173, 'isback': 1790, 'hoga': 1615, 'stadion': 4223, 'indonesianeedleader': 1742, 'sangkut': 3877, 'kgn': 2191, 'donggy': 1082, 'may': 2663, 'sengsara': 3996, 'bpjskesehat': 632, 'angkuh': 184, 'konpres': 2294, 'memedical': 2727, 'sentralisasi': 4005, 'sensi': 4003, 'ibul': 1659, 'hahahahaha': 1489, 'dehh': 967, 'sensor': 4004, 'memungu': 2793, 'rt': 3782, 'uber': 4710, 'blng': 574, 'tmbh': 4589, 'memaskermahal': 2718, 'vifo': 4814, 'young': 4974, 'gesss': 1396, 'cemooh': 749, 'sayapercayajokow': 3916, 'iphone': 1781, 'bedau': 454, 'bnd': 585, 'grati': 1438, 'coronapocalypse': 850, 'dukungjokowibasmicorona': 1130, 'atr': 286, 'wawas': 4875, 'dii': 1029, 'okey': 3083, 'memslh': 2787, 'psien': 3535, 'kandung': 2059, 'cust': 884, 'jayega': 1898, 'puti': 3571, 'urang': 4772, 'akoe': 92, 'bngung': 587, 'pecatteraw': 3255, 'pemer': 3290, 'gusti': 1465, 'slem': 4155, 'baglog': 336, 'tiram': 4573, 'rezimtutupicorona': 3729, 'inna': 1760, 'galih': 1321, 'juns': 1985, 'pijatdepok': 3377, 'traffic': 4626, 'hukumd': 1642, 'nongol': 3031, 'statment': 4237, 'push': 3564, 'kite': 2228, 'menusabal': 2861, 'teleworking': 4454, 'dukecondet': 1128, 'sinis': 4116, 'omg': 3094, 'pera': 3323, 'bhag': 524, 'bursa': 690, 'datuakrajoangek': 941, 'ujan': 4722, 'sue': 4282, 'slogan': 4158, 'khas': 2196, 'take': 4369, 'cicit': 786, 'menana': 2806, 'hazmat': 1549, 'urung': 4775, 'runturamb': 3797, 'jakbar': 1843, 'weareoneexo': 4879, 'emon': 1190}\n"
          ]
        }
      ]
    },
    {
      "cell_type": "code",
      "source": [
        "# Classifier - Algorithm - SVM\n",
        "# fit training data ke classifier\n",
        "SVM = svm.SVC(C=1.0, kernel='linear', degree=3, gamma='auto')\n",
        "SVM.fit(Train_X_Tfidf,Train_Y)\n",
        "\n",
        "# Prediksi label di dataset validation\n",
        "predictions_SVM = SVM.predict(Test_X_Tfidf)"
      ],
      "metadata": {
        "id": "XAf6JiwpGDt_"
      },
      "execution_count": null,
      "outputs": []
    },
    {
      "cell_type": "code",
      "source": [
        "f1_res = f1_score(Test_Y, predictions_SVM, average='macro')*100\n",
        "print(\"F1 Score -> \", f1_res)\n",
        "\n",
        "roc_auc_res = roc_auc_score(Test_Y, predictions_SVM)*100\n",
        "print(\"ROC AUC Score -> \", f1_res)\n",
        "\n",
        "accuracy_res = accuracy_score(predictions_SVM, Test_Y)*100\n",
        "print(\"SVM Accuracy Score -> \", accuracy_res)"
      ],
      "metadata": {
        "colab": {
          "base_uri": "https://localhost:8080/"
        },
        "id": "6NlgkOoUSBhb",
        "outputId": "ab4f3004-4d22-4a6b-ef42-8d42cea565ee"
      },
      "execution_count": null,
      "outputs": [
        {
          "output_type": "stream",
          "name": "stdout",
          "text": [
            "F1 Score ->  79.93736136841318\n",
            "ROC AUC Score ->  79.93736136841318\n",
            "SVM Accuracy Score ->  85.21428571428571\n"
          ]
        }
      ]
    },
    {
      "cell_type": "code",
      "source": [
        "print(classification_report(Test_Y,predictions_SVM))"
      ],
      "metadata": {
        "colab": {
          "base_uri": "https://localhost:8080/"
        },
        "id": "r_yd9a7WGGLC",
        "outputId": "5f30fc83-2ff1-4294-a769-06288ef481cf"
      },
      "execution_count": null,
      "outputs": [
        {
          "output_type": "stream",
          "name": "stdout",
          "text": [
            "              precision    recall  f1-score   support\n",
            "\n",
            "           0       0.89      0.91      0.90      2093\n",
            "           1       0.72      0.67      0.70       707\n",
            "\n",
            "    accuracy                           0.85      2800\n",
            "   macro avg       0.81      0.79      0.80      2800\n",
            "weighted avg       0.85      0.85      0.85      2800\n",
            "\n"
          ]
        }
      ]
    }
  ]
}